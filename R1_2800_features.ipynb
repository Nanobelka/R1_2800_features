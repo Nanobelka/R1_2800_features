{
 "cells": [
  {
   "cell_type": "markdown",
   "id": "fdd4126e",
   "metadata": {},
   "source": [
    "# R1 / Дом.ру — хакатон\n",
    "\n",
    "---\n",
    "\n",
    "**Цель**\n",
    "\n",
    "Для компании R1 необходимо научиться предсказывать вероятность покупки клиентом нового оборудования.  \n",
    "Компания обладает базой клиентов, которым было предложено новое оборудование, а также указано, купил клиент оборудование или нет.\n",
    "\n",
    "---\n",
    "\n",
    "**Входные данные**\n",
    "\n",
    "Датасет представляет собой выборку из базы клиентов (**id** – идентификатор клиента), с которыми была\n",
    "попытка коммуникации в одном из каналов (**channel_name**).\n",
    "\n",
    "Целевая переменная ('target') равна **1**, если после коммуникации с клиентом была продажа\n",
    "оборудования и **0**, если нет.\n",
    "\n",
    "Поле **period** соответствует месяцу сбора признаков на клиента. Лаг между датой коммуникации и сборкой\n",
    "признаков на клиента – 2 месяца (например, если коммуникация была в любой день марта, то признаки на\n",
    "клиента собирались на 31 января).\n",
    "\n",
    "В архиве представлены 2 датасета: dataset_train.parquet (с целевой переменной) и dataset_oot.parquet\n",
    "(отложенная выборка без целевой переменной)\n",
    "Все предоставленные данные:\n",
    "\n",
    "    dataset_train.parquet — тренировочный датасет;\n",
    "    features_oot.parquet — тестовый датасет;\n",
    "    features_types.json — словарь типов данных для признаков;\n",
    "    sample_submission.csv — пример файла с загружаемыми результатами.\n",
    "\n",
    "Описание признаков\n",
    "\n",
    "Для каждой пары 'id' + 'period' собрано около 2800 признаков.  \n",
    "Названия признаков интерпретируются следующим образом:\n",
    "\n",
    "    <модуль>\\_<номер признака>\\_<глубина агрегации>\\_<тип>\n",
    "\n",
    "Если признак построен как агрегат (например сумма за период), то указывается **<глубина агрегации>** в\n",
    "месяцах, в противном случае ставится 0.<br> Также, в качестве **<глубина агрегации>** может быть запись вида\n",
    "**3d6**, что указывает на отношение агрегата за 3 месяца к агрегату за 6 месяцев.\n",
    "\n",
    "Типы признаков:\n",
    "\n",
    "    flg: флаг (значение 1 или 0)\n",
    "    ctg: категориальный признак\n",
    "    num: числовой признак\n",
    "    dt: дата\n",
    "    cnt: количество\n",
    "    sum: сумма\n",
    "    avg: среднее\n",
    "    sumpct: персентиль по сумме\n",
    "    part: доля\n",
    "\n",
    "---\n",
    "\n",
    "**Задачи:**  \n",
    "\n",
    "Придумать решение на базе предоставленных данных, которое было бы интересно заказчику.  \n",
    "Решение реализовать в виде модели.  \n",
    "Сделать оценку качества модели и описать ее характеристики."
   ]
  },
  {
   "cell_type": "markdown",
   "id": "7074a377",
   "metadata": {},
   "source": [
    "## Intro"
   ]
  },
  {
   "cell_type": "markdown",
   "id": "88362f66",
   "metadata": {},
   "source": [
    "## Initial"
   ]
  },
  {
   "cell_type": "markdown",
   "id": "5ca3a3c5",
   "metadata": {},
   "source": [
    "### Imports"
   ]
  },
  {
   "cell_type": "code",
   "execution_count": 10,
   "id": "9a85770f",
   "metadata": {},
   "outputs": [],
   "source": [
    "import pandas as pd\n",
    "import numpy as np\n",
    "import pyarrow as pa\n",
    "import pyarrow.parquet as pq\n",
    "from pyarrow.parquet import ParquetFile\n",
    "import duckdb\n",
    "\n",
    "import warnings\n",
    "import json\n",
    "\n",
    "import matplotlib.pyplot as plt\n",
    "import seaborn as sns\n",
    "\n",
    "from sklearn.experimental import enable_iterative_imputer\n",
    "from sklearn.impute import SimpleImputer, IterativeImputer\n",
    "from sklearn.compose import ColumnTransformer, make_column_transformer, make_column_selector\n",
    "from sklearn.preprocessing import StandardScaler, MinMaxScaler, RobustScaler, OrdinalEncoder, OneHotEncoder\n",
    "from sklearn.model_selection import train_test_split, StratifiedKFold, GroupShuffleSplit, cross_val_score\n",
    "from sklearn.pipeline import Pipeline, make_pipeline\n",
    "from sklearn.feature_selection import RFECV, RFE\n",
    "\n",
    "from catboost import CatBoostClassifier, cv, Pool"
   ]
  },
  {
   "cell_type": "markdown",
   "id": "c3414fc8",
   "metadata": {},
   "source": [
    "<a id=\"id_contstants\"></a>\n",
    "### Constants"
   ]
  },
  {
   "cell_type": "code",
   "execution_count": 11,
   "id": "9b9dafaa",
   "metadata": {},
   "outputs": [],
   "source": [
    "# common constants\n",
    "\n",
    "CR = '\\n'                                              # new line\n",
    "RS = RANDOM_STATE = RANDOM_SEED = 888                  # random_state"
   ]
  },
  {
   "cell_type": "code",
   "execution_count": 12,
   "id": "9af30c2a",
   "metadata": {},
   "outputs": [],
   "source": [
    "# path constants\n",
    "\n",
    "PATH_SWITCH = 'local'                                  # available options are 'local' or 'remote' to choose data source\n",
    "PATH_LOCAL = 'datasets/'                               # local path to data\n",
    "PATH_REMOTE = '/kaggle/input/mydatasets/'              # remote path to data\n",
    "\n",
    "PATH = PATH_LOCAL if PATH_SWITCH == 'local' else PATH_REMOTE  # choose whether local or remote path to data"
   ]
  },
  {
   "cell_type": "code",
   "execution_count": 13,
   "id": "9973a434",
   "metadata": {},
   "outputs": [],
   "source": [
    "NAN_THRESHOLD = 0.2                                    # допустимая доля пропусков в одном признаке\n",
    "STD_MIN_THRESHOLD = 0.02                               # минимально допустимое значение стандартного отклонения для признака\n",
    "STD_MAX_THRESHOLD = 1.00                               # максимально допустимое значение стандартного отклонения для признака\n",
    "                                                       # (при 1 этот порог не применяется, но можно поэкспериментировать)\n",
    "\n",
    "TARGET = 'target'                                      # target name\n",
    "TRAIN_FRAC = 0.70                                      # train sampling fraction\n",
    "\n",
    "N_FEATURES_TO_SELECT = 50                              # сколько признаков необходимо отобрать"
   ]
  },
  {
   "cell_type": "markdown",
   "id": "3099908b",
   "metadata": {},
   "source": [
    "### Functions"
   ]
  },
  {
   "cell_type": "code",
   "execution_count": 14,
   "id": "704f61b2",
   "metadata": {},
   "outputs": [],
   "source": [
    "def load_data(data_name, file_extension='parquet', separator=',', query=''):\n",
    "    '''\n",
    "    чтение данных из файла с указанным расширением:\n",
    "       сначала по локальному пути;\n",
    "       при неудаче — из удаленного хранилища.\n",
    "    '''\n",
    "\n",
    "    print(f'{f.BOLD}{data_name}{f.END} in progress...')\n",
    "    \n",
    "    path_local = f'{PATH_LOCAL}{data_name}.{file_extension}'\n",
    "    path_remote = f'{PATH_REMOTE}{data_name}.{file_extension}'\n",
    "    \n",
    "    for path in [path_local, path_remote]:\n",
    "        if os.path.exists(path):\n",
    "            df = pd.read_parquet(path)\n",
    "#             df = reduce_memory_usage(df, verbose='short')                             # оптимизация размера занимаемой памяти\n",
    "            print(f'{f.BOLD}{data_name}{f.END} successfully loaded from {path}{CR}')        \n",
    "            return df\n",
    "\n",
    "    print(f'File \"{file_name}\" not found')"
   ]
  },
  {
   "cell_type": "code",
   "execution_count": 15,
   "id": "53d99606",
   "metadata": {},
   "outputs": [],
   "source": [
    "def reduce_memory_usage(df: pd.DataFrame, verbose='full'):\n",
    "    '''\n",
    "    Уменьшение памяти, отведенной под хранение датафрейма.\n",
    "    Вывод отчета: полного или сокращенного.\n",
    "    '''\n",
    "    start_mem = df.memory_usage().sum() / 1024**2\n",
    "\n",
    "    numerical_columns = df.select_dtypes(include=np.number).columns.to_list()\n",
    "\n",
    "    for col in numerical_columns:\n",
    "        if verbose == 'full':\n",
    "            print(f'Optimising column {f.BOLD}{col}{f.END}', end='... ')\n",
    "\n",
    "        min_value, max_value = df[col].min(), df[col].max()\n",
    "\n",
    "        if 'int' in str(df[col].dtype):\n",
    "            int_types = ['int8', 'int16', 'int32', 'int64']\n",
    "            for int_type in int_types:\n",
    "                if min_value > np.iinfo(int_type).min and max_value < np.iinfo(int_type).max:\n",
    "                    df[col] = df[col].astype(int_type)\n",
    "                    break\n",
    "\n",
    "        if 'float' in str(df[col].dtype):\n",
    "            float_types = ['float16', 'float32', 'float64']\n",
    "            for float_type in float_types:\n",
    "                if min_value > np.finfo(float_type).min and max_value < np.finfo(float_type).max:\n",
    "                    df[col] = df[col].astype(float_type)\n",
    "                    break\n",
    "\n",
    "        if verbose == 'full':\n",
    "            print('Done')\n",
    "\n",
    "    end_mem = df.memory_usage().sum() / 1024**2\n",
    "\n",
    "    if verbose == 'short':\n",
    "        print(f'Memory usage before optimization: {start_mem:.3f} MB')\n",
    "        print(f'Memory usage after optimization: {end_mem:.3f} MB')\n",
    "        print(f'Memory usage reduced about {(start_mem-end_mem)/start_mem:.0%}')\n",
    "\n",
    "    return df"
   ]
  },
  {
   "cell_type": "markdown",
   "id": "64ecc926",
   "metadata": {},
   "source": [
    "### Settings"
   ]
  },
  {
   "cell_type": "code",
   "execution_count": 16,
   "id": "8430cec2",
   "metadata": {},
   "outputs": [],
   "source": [
    "# text styles\n",
    "class f:\n",
    "    BOLD = \"\\033[1m\"\n",
    "    ITALIC = \"\\033[3m\"\n",
    "    END = \"\\033[0m\""
   ]
  },
  {
   "cell_type": "code",
   "execution_count": 17,
   "id": "e5be9c3c",
   "metadata": {},
   "outputs": [],
   "source": [
    "# charts defaults\n",
    "\n",
    "# Matplotlib, Seaborn\n",
    "PLOT_DPI = 150  # dpi for charts rendering \n",
    "sns.set_style('whitegrid', {'axes.facecolor': '0.98', 'grid.color': '0.9', 'axes.edgecolor': '1.0'})\n",
    "plt.rc(\n",
    "       'axes',\n",
    "       labelweight='bold',\n",
    "       titlesize=16,\n",
    "       titlepad=10,\n",
    "      )"
   ]
  },
  {
   "cell_type": "code",
   "execution_count": 18,
   "id": "49738dd5",
   "metadata": {},
   "outputs": [],
   "source": [
    "# Pandas\n",
    "pd.options.display.max_colwidth = 100\n",
    "pd.options.display.max_rows = 500\n",
    "pd.options.display.max_columns = 100\n",
    "pd.options.display.float_format = '{:.3f}'.format\n",
    "pd.options.display.colheader_justify = 'left'"
   ]
  },
  {
   "cell_type": "code",
   "execution_count": 19,
   "id": "d708f26e",
   "metadata": {},
   "outputs": [],
   "source": [
    "# others\n",
    "warnings.filterwarnings('ignore')"
   ]
  },
  {
   "cell_type": "markdown",
   "id": "7a9d5ddb",
   "metadata": {},
   "source": [
    "---"
   ]
  },
  {
   "cell_type": "markdown",
   "id": "ec296102",
   "metadata": {},
   "source": [
    "## Изучение данных"
   ]
  },
  {
   "cell_type": "markdown",
   "id": "6c68c323",
   "metadata": {},
   "source": [
    "### Признаки"
   ]
  },
  {
   "cell_type": "markdown",
   "id": "f52646a1",
   "metadata": {},
   "source": [
    "#### Список признаков"
   ]
  },
  {
   "cell_type": "code",
   "execution_count": 20,
   "id": "18e0c370",
   "metadata": {},
   "outputs": [
    {
     "data": {
      "text/plain": [
       "['id',\n",
       " 'period',\n",
       " 'channel_name',\n",
       " 'target',\n",
       " 'markers_0_1_cnt',\n",
       " 'markers_1_1_cnt',\n",
       " 'markers_2_1_cnt']"
      ]
     },
     "execution_count": 20,
     "metadata": {},
     "output_type": "execute_result"
    }
   ],
   "source": [
    "data_col_list = ParquetFile(f'{PATH_LOCAL}dataset_train.parquet').schema.names\n",
    "\n",
    "data_col_list[:7]"
   ]
  },
  {
   "cell_type": "markdown",
   "id": "b966e3db",
   "metadata": {},
   "source": [
    "#### Группы признаков"
   ]
  },
  {
   "cell_type": "code",
   "execution_count": 21,
   "id": "c5ebac8a",
   "metadata": {},
   "outputs": [
    {
     "data": {
      "text/plain": [
       "['overdue',\n",
       " 'vas',\n",
       " 'plan',\n",
       " 'area',\n",
       " 'agreement',\n",
       " 'save',\n",
       " 'arpu',\n",
       " 'social',\n",
       " 'issues',\n",
       " 'user',\n",
       " 'charges',\n",
       " 'scheme',\n",
       " 'exist',\n",
       " 'traffic',\n",
       " 'period',\n",
       " 'communication',\n",
       " 'domru',\n",
       " 'channel',\n",
       " 'payments',\n",
       " 'balance',\n",
       " 'tariff',\n",
       " 'online',\n",
       " 'smarttv',\n",
       " 'movix',\n",
       " 'deact',\n",
       " 'type',\n",
       " 'markers',\n",
       " 'materials',\n",
       " 'info',\n",
       " 'spas',\n",
       " 'id',\n",
       " 'migrant',\n",
       " 'basic',\n",
       " 'campaigns',\n",
       " 'cities',\n",
       " 'target',\n",
       " 'autopay']"
      ]
     },
     "execution_count": 21,
     "metadata": {},
     "output_type": "execute_result"
    }
   ],
   "source": [
    "# набор признаков\n",
    "\n",
    "data_col_set = set(item.split('_')[0] for item in data_col_list)\n",
    "list(data_col_set)"
   ]
  },
  {
   "cell_type": "code",
   "execution_count": 22,
   "id": "8d78f61b",
   "metadata": {
    "scrolled": true
   },
   "outputs": [
    {
     "data": {
      "text/html": [
       "<div>\n",
       "<style scoped>\n",
       "    .dataframe tbody tr th:only-of-type {\n",
       "        vertical-align: middle;\n",
       "    }\n",
       "\n",
       "    .dataframe tbody tr th {\n",
       "        vertical-align: top;\n",
       "    }\n",
       "\n",
       "    .dataframe thead th {\n",
       "        text-align: right;\n",
       "    }\n",
       "</style>\n",
       "<table border=\"1\" class=\"dataframe\">\n",
       "  <thead>\n",
       "    <tr style=\"text-align: left;\">\n",
       "      <th></th>\n",
       "      <th>count</th>\n",
       "    </tr>\n",
       "  </thead>\n",
       "  <tbody>\n",
       "    <tr>\n",
       "      <th>markers</th>\n",
       "      <td>924</td>\n",
       "    </tr>\n",
       "    <tr>\n",
       "      <th>spas</th>\n",
       "      <td>599</td>\n",
       "    </tr>\n",
       "    <tr>\n",
       "      <th>campaigns</th>\n",
       "      <td>406</td>\n",
       "    </tr>\n",
       "    <tr>\n",
       "      <th>movix</th>\n",
       "      <td>188</td>\n",
       "    </tr>\n",
       "    <tr>\n",
       "      <th>issues</th>\n",
       "      <td>159</td>\n",
       "    </tr>\n",
       "    <tr>\n",
       "      <th>communication</th>\n",
       "      <td>70</td>\n",
       "    </tr>\n",
       "    <tr>\n",
       "      <th>traffic</th>\n",
       "      <td>69</td>\n",
       "    </tr>\n",
       "    <tr>\n",
       "      <th>user</th>\n",
       "      <td>69</td>\n",
       "    </tr>\n",
       "    <tr>\n",
       "      <th>vas</th>\n",
       "      <td>59</td>\n",
       "    </tr>\n",
       "    <tr>\n",
       "      <th>payments</th>\n",
       "      <td>51</td>\n",
       "    </tr>\n",
       "    <tr>\n",
       "      <th>charges</th>\n",
       "      <td>33</td>\n",
       "    </tr>\n",
       "    <tr>\n",
       "      <th>materials</th>\n",
       "      <td>26</td>\n",
       "    </tr>\n",
       "    <tr>\n",
       "      <th>tariff</th>\n",
       "      <td>25</td>\n",
       "    </tr>\n",
       "    <tr>\n",
       "      <th>save</th>\n",
       "      <td>21</td>\n",
       "    </tr>\n",
       "    <tr>\n",
       "      <th>deact</th>\n",
       "      <td>12</td>\n",
       "    </tr>\n",
       "    <tr>\n",
       "      <th>autopay</th>\n",
       "      <td>10</td>\n",
       "    </tr>\n",
       "    <tr>\n",
       "      <th>plan</th>\n",
       "      <td>9</td>\n",
       "    </tr>\n",
       "    <tr>\n",
       "      <th>info</th>\n",
       "      <td>8</td>\n",
       "    </tr>\n",
       "    <tr>\n",
       "      <th>social</th>\n",
       "      <td>5</td>\n",
       "    </tr>\n",
       "    <tr>\n",
       "      <th>scheme</th>\n",
       "      <td>5</td>\n",
       "    </tr>\n",
       "    <tr>\n",
       "      <th>exist</th>\n",
       "      <td>3</td>\n",
       "    </tr>\n",
       "    <tr>\n",
       "      <th>domru</th>\n",
       "      <td>3</td>\n",
       "    </tr>\n",
       "    <tr>\n",
       "      <th>basic</th>\n",
       "      <td>3</td>\n",
       "    </tr>\n",
       "    <tr>\n",
       "      <th>smarttv</th>\n",
       "      <td>3</td>\n",
       "    </tr>\n",
       "    <tr>\n",
       "      <th>online</th>\n",
       "      <td>3</td>\n",
       "    </tr>\n",
       "    <tr>\n",
       "      <th>cities</th>\n",
       "      <td>3</td>\n",
       "    </tr>\n",
       "    <tr>\n",
       "      <th>arpu</th>\n",
       "      <td>3</td>\n",
       "    </tr>\n",
       "    <tr>\n",
       "      <th>area</th>\n",
       "      <td>2</td>\n",
       "    </tr>\n",
       "    <tr>\n",
       "      <th>type</th>\n",
       "      <td>1</td>\n",
       "    </tr>\n",
       "    <tr>\n",
       "      <th>agreement</th>\n",
       "      <td>1</td>\n",
       "    </tr>\n",
       "    <tr>\n",
       "      <th>id</th>\n",
       "      <td>1</td>\n",
       "    </tr>\n",
       "    <tr>\n",
       "      <th>overdue</th>\n",
       "      <td>1</td>\n",
       "    </tr>\n",
       "    <tr>\n",
       "      <th>period</th>\n",
       "      <td>1</td>\n",
       "    </tr>\n",
       "    <tr>\n",
       "      <th>balance</th>\n",
       "      <td>1</td>\n",
       "    </tr>\n",
       "    <tr>\n",
       "      <th>target</th>\n",
       "      <td>1</td>\n",
       "    </tr>\n",
       "    <tr>\n",
       "      <th>channel</th>\n",
       "      <td>1</td>\n",
       "    </tr>\n",
       "    <tr>\n",
       "      <th>migrant</th>\n",
       "      <td>1</td>\n",
       "    </tr>\n",
       "  </tbody>\n",
       "</table>\n",
       "</div>"
      ],
      "text/plain": [
       "               count\n",
       "markers        924  \n",
       "spas           599  \n",
       "campaigns      406  \n",
       "movix          188  \n",
       "issues         159  \n",
       "communication   70  \n",
       "traffic         69  \n",
       "user            69  \n",
       "vas             59  \n",
       "payments        51  \n",
       "charges         33  \n",
       "materials       26  \n",
       "tariff          25  \n",
       "save            21  \n",
       "deact           12  \n",
       "autopay         10  \n",
       "plan             9  \n",
       "info             8  \n",
       "social           5  \n",
       "scheme           5  \n",
       "exist            3  \n",
       "domru            3  \n",
       "basic            3  \n",
       "smarttv          3  \n",
       "online           3  \n",
       "cities           3  \n",
       "arpu             3  \n",
       "area             2  \n",
       "type             1  \n",
       "agreement        1  \n",
       "id               1  \n",
       "overdue          1  \n",
       "period           1  \n",
       "balance          1  \n",
       "target           1  \n",
       "channel          1  \n",
       "migrant          1  "
      ]
     },
     "execution_count": 22,
     "metadata": {},
     "output_type": "execute_result"
    }
   ],
   "source": [
    "# словарь признаков с частотой повторений\n",
    "\n",
    "data_col_dict = {}\n",
    "\n",
    "for item in (item.split('_')[0] for item in data_col_list):\n",
    "    data_col_dict[item] = data_col_dict.get(item, 0) + 1\n",
    "\n",
    "df = pd.DataFrame(data_col_dict.values(), index=data_col_dict.keys(), columns=['count']).sort_values('count', ascending=False)\n",
    "df\n",
    "    \n",
    "# data_col_dict = dict(sorted(data_col_dict.items(), key=lambda x: x[1], reverse=True))   # упорядочивание по убыванию частоты\n",
    "# print(json.dumps(data_col_dict, indent=1), f'{CR}')"
   ]
  },
  {
   "cell_type": "markdown",
   "id": "e4bfa2d1",
   "metadata": {},
   "source": [
    "#### features_types"
   ]
  },
  {
   "cell_type": "code",
   "execution_count": 23,
   "id": "003530b7",
   "metadata": {},
   "outputs": [
    {
     "data": {
      "text/html": [
       "<div>\n",
       "<style scoped>\n",
       "    .dataframe tbody tr th:only-of-type {\n",
       "        vertical-align: middle;\n",
       "    }\n",
       "\n",
       "    .dataframe tbody tr th {\n",
       "        vertical-align: top;\n",
       "    }\n",
       "\n",
       "    .dataframe thead th {\n",
       "        text-align: right;\n",
       "    }\n",
       "</style>\n",
       "<table border=\"1\" class=\"dataframe\">\n",
       "  <thead>\n",
       "    <tr style=\"text-align: left;\">\n",
       "      <th></th>\n",
       "      <th>type_count</th>\n",
       "    </tr>\n",
       "    <tr>\n",
       "      <th>0</th>\n",
       "      <th></th>\n",
       "    </tr>\n",
       "  </thead>\n",
       "  <tbody>\n",
       "    <tr>\n",
       "      <th>categorical_str</th>\n",
       "      <td>31</td>\n",
       "    </tr>\n",
       "    <tr>\n",
       "      <th>categorical_int</th>\n",
       "      <td>138</td>\n",
       "    </tr>\n",
       "    <tr>\n",
       "      <th>numeric</th>\n",
       "      <td>2607</td>\n",
       "    </tr>\n",
       "  </tbody>\n",
       "</table>\n",
       "</div>"
      ],
      "text/plain": [
       "                 type_count\n",
       "0                          \n",
       "categorical_str    31      \n",
       "categorical_int   138      \n",
       "numeric          2607      "
      ]
     },
     "execution_count": 23,
     "metadata": {},
     "output_type": "execute_result"
    }
   ],
   "source": [
    "(\n",
    "    pd.read_json(f'{PATH_LOCAL}/features_types.json', typ='series')\n",
    "    .reset_index()\n",
    "    .groupby(0)\n",
    "    .agg(type_count=('index','count'))\n",
    "    .sort_values('type_count')\n",
    ")"
   ]
  },
  {
   "cell_type": "markdown",
   "id": "75840109-af91-4188-8132-73b40c7b17ff",
   "metadata": {},
   "source": [
    "... либо так:"
   ]
  },
  {
   "cell_type": "code",
   "execution_count": 24,
   "id": "ca424178",
   "metadata": {},
   "outputs": [
    {
     "data": {
      "text/plain": [
       "array(['numeric', 'categorical_str', 'categorical_int'], dtype=object)"
      ]
     },
     "execution_count": 24,
     "metadata": {},
     "output_type": "execute_result"
    }
   ],
   "source": [
    "schema = pd.read_json(f'{PATH_LOCAL}/features_types.json', typ='series')\n",
    "schema.unique()"
   ]
  },
  {
   "cell_type": "code",
   "execution_count": 25,
   "id": "e8ebc0b6",
   "metadata": {},
   "outputs": [],
   "source": [
    "numeric = schema[schema=='numeric'].index.to_list()\n",
    "categorical_str = schema[schema=='categorical_str'].index.to_list()\n",
    "categorical_int = schema[schema=='categorical_int'].index.to_list()"
   ]
  },
  {
   "cell_type": "code",
   "execution_count": 26,
   "id": "d935afeb",
   "metadata": {},
   "outputs": [
    {
     "data": {
      "text/plain": [
       "(2607, ['markers_0_1_cnt', 'markers_1_1_cnt', 'markers_2_1_cnt'])"
      ]
     },
     "execution_count": 26,
     "metadata": {},
     "output_type": "execute_result"
    }
   ],
   "source": [
    "len(numeric), numeric[:3]"
   ]
  },
  {
   "cell_type": "code",
   "execution_count": 27,
   "id": "ce0ab342",
   "metadata": {},
   "outputs": [
    {
     "data": {
      "text/plain": [
       "(31,\n",
       " ['materials_details_0_1_ctg',\n",
       "  'materials_details_1_1_ctg',\n",
       "  'user_lifetime_0_1_ctg'])"
      ]
     },
     "execution_count": 27,
     "metadata": {},
     "output_type": "execute_result"
    }
   ],
   "source": [
    "len(categorical_str), categorical_str[:3]"
   ]
  },
  {
   "cell_type": "code",
   "execution_count": 28,
   "id": "27074920",
   "metadata": {},
   "outputs": [
    {
     "data": {
      "text/plain": [
       "(138,\n",
       " ['communication_availability_0_1_flg',\n",
       "  'communication_availability_1_1_ctg',\n",
       "  'communication_availability_2_1_flg'])"
      ]
     },
     "execution_count": 28,
     "metadata": {},
     "output_type": "execute_result"
    }
   ],
   "source": [
    "len(categorical_int), categorical_int[:3]"
   ]
  },
  {
   "cell_type": "markdown",
   "id": "81aab28e",
   "metadata": {},
   "source": [
    "### **dataset_train**"
   ]
  },
  {
   "cell_type": "code",
   "execution_count": 29,
   "id": "cc9c529f",
   "metadata": {},
   "outputs": [
    {
     "data": {
      "text/plain": [
       "<pyarrow._parquet.FileMetaData object at 0x000000001C3049F0>\n",
       "  created_by: parquet-cpp-arrow version 11.0.0\n",
       "  num_columns: 2780\n",
       "  num_rows: 702086\n",
       "  num_row_groups: 1\n",
       "  format_version: 2.6\n",
       "  serialized_size: 1599234"
      ]
     },
     "execution_count": 29,
     "metadata": {},
     "output_type": "execute_result"
    }
   ],
   "source": [
    "metadata = pq.read_metadata(f'{PATH_LOCAL}dataset_train.parquet')\n",
    "metadata"
   ]
  },
  {
   "cell_type": "code",
   "execution_count": 30,
   "id": "baa34b13-b0cd-4076-994b-22d114acb8fc",
   "metadata": {},
   "outputs": [
    {
     "data": {
      "application/vnd.jupyter.widget-view+json": {
       "model_id": "2ac5ae55cd82474e84cb1c4a84e22052",
       "version_major": 2,
       "version_minor": 0
      },
      "text/plain": [
       "FloatProgress(value=0.0, layout=Layout(width='auto'), style=ProgressStyle(bar_color='black'))"
      ]
     },
     "metadata": {},
     "output_type": "display_data"
    },
    {
     "name": "stdout",
     "output_type": "stream",
     "text": [
      "CPU times: total: 1min 2s\n",
      "Wall time: 39.3 s\n"
     ]
    }
   ],
   "source": [
    "%%time\n",
    "\n",
    "train_file_path = f'{PATH_LOCAL}dataset_train.parquet'\n",
    "n_rows = 100_000\n",
    "period_start = '202210'\n",
    "channel_name = '3'\n",
    "\n",
    "query_text = f'''\n",
    "    SELECT *\n",
    "    FROM \"{train_file_path}\"\n",
    "    WHERE period >= {period_start} AND channel_name = {channel_name}\n",
    "    ORDER BY RANDOM()\n",
    "    LIMIT {n_rows};\n",
    "'''\n",
    "\n",
    "data_train = duckdb.query(query_text).df()"
   ]
  },
  {
   "cell_type": "code",
   "execution_count": 31,
   "id": "8667b9c6",
   "metadata": {},
   "outputs": [
    {
     "data": {
      "text/plain": [
       "202211    16171\n",
       "202210    15432\n",
       "202212    14335\n",
       "Name: period, dtype: int64"
      ]
     },
     "execution_count": 31,
     "metadata": {},
     "output_type": "execute_result"
    }
   ],
   "source": [
    "data_train.period.value_counts()"
   ]
  },
  {
   "cell_type": "code",
   "execution_count": 32,
   "id": "1f8f0a4d",
   "metadata": {},
   "outputs": [
    {
     "data": {
      "text/plain": [
       "3    45938\n",
       "Name: channel_name, dtype: int64"
      ]
     },
     "execution_count": 32,
     "metadata": {},
     "output_type": "execute_result"
    }
   ],
   "source": [
    "data_train.channel_name.value_counts()"
   ]
  },
  {
   "cell_type": "code",
   "execution_count": 33,
   "id": "215f3934",
   "metadata": {},
   "outputs": [],
   "source": [
    "# альтернативный вариант чтения данных\n",
    "\n",
    "# data_train = pd.read_parquet(\n",
    "#                              f'{PATH_LOCAL}dataset_train.parquet',\n",
    "#                              columns=['id'] + [col for col in data_col_list if col.startswith('info')],\n",
    "#                              memory_map=True,\n",
    "#                              filters=[('id', '<',  '1100000')]\n",
    "#                             )"
   ]
  },
  {
   "cell_type": "markdown",
   "id": "df6546ce",
   "metadata": {},
   "source": [
    "### Баланс классов"
   ]
  },
  {
   "cell_type": "code",
   "execution_count": 34,
   "id": "f7d2674d",
   "metadata": {},
   "outputs": [
    {
     "data": {
      "text/plain": [
       "0   0.979\n",
       "1   0.021\n",
       "Name: target, dtype: float64"
      ]
     },
     "execution_count": 34,
     "metadata": {},
     "output_type": "execute_result"
    }
   ],
   "source": [
    "data_train[TARGET].value_counts(normalize=True)"
   ]
  },
  {
   "cell_type": "code",
   "execution_count": 35,
   "id": "dc68fa6f",
   "metadata": {},
   "outputs": [
    {
     "data": {
      "text/plain": [
       "array([ 0.5107173 , 23.82676349])"
      ]
     },
     "execution_count": 35,
     "metadata": {},
     "output_type": "execute_result"
    }
   ],
   "source": [
    "from sklearn.utils.class_weight import compute_class_weight\n",
    "\n",
    "# Вычисление весов классов\n",
    "class_weights = compute_class_weight('balanced', classes=np.unique(data_train[TARGET]), y=data_train[TARGET])\n",
    "class_weights"
   ]
  },
  {
   "cell_type": "markdown",
   "id": "629e9680",
   "metadata": {},
   "source": [
    "### Признак `period`"
   ]
  },
  {
   "cell_type": "code",
   "execution_count": 36,
   "id": "16213947",
   "metadata": {},
   "outputs": [
    {
     "data": {
      "text/html": [
       "<div>\n",
       "<style scoped>\n",
       "    .dataframe tbody tr th:only-of-type {\n",
       "        vertical-align: middle;\n",
       "    }\n",
       "\n",
       "    .dataframe tbody tr th {\n",
       "        vertical-align: top;\n",
       "    }\n",
       "\n",
       "    .dataframe thead th {\n",
       "        text-align: right;\n",
       "    }\n",
       "</style>\n",
       "<table border=\"1\" class=\"dataframe\">\n",
       "  <thead>\n",
       "    <tr style=\"text-align: left;\">\n",
       "      <th></th>\n",
       "      <th>period</th>\n",
       "    </tr>\n",
       "  </thead>\n",
       "  <tbody>\n",
       "    <tr>\n",
       "      <th>count</th>\n",
       "      <td>45938.000</td>\n",
       "    </tr>\n",
       "    <tr>\n",
       "      <th>mean</th>\n",
       "      <td>202210.976</td>\n",
       "    </tr>\n",
       "    <tr>\n",
       "      <th>std</th>\n",
       "      <td>0.805</td>\n",
       "    </tr>\n",
       "    <tr>\n",
       "      <th>min</th>\n",
       "      <td>202210.000</td>\n",
       "    </tr>\n",
       "    <tr>\n",
       "      <th>25%</th>\n",
       "      <td>202210.000</td>\n",
       "    </tr>\n",
       "    <tr>\n",
       "      <th>50%</th>\n",
       "      <td>202211.000</td>\n",
       "    </tr>\n",
       "    <tr>\n",
       "      <th>75%</th>\n",
       "      <td>202212.000</td>\n",
       "    </tr>\n",
       "    <tr>\n",
       "      <th>max</th>\n",
       "      <td>202212.000</td>\n",
       "    </tr>\n",
       "  </tbody>\n",
       "</table>\n",
       "</div>"
      ],
      "text/plain": [
       "       period   \n",
       "count  45938.000\n",
       "mean  202210.976\n",
       "std        0.805\n",
       "min   202210.000\n",
       "25%   202210.000\n",
       "50%   202211.000\n",
       "75%   202212.000\n",
       "max   202212.000"
      ]
     },
     "execution_count": 36,
     "metadata": {},
     "output_type": "execute_result"
    }
   ],
   "source": [
    "data_train[['period']].describe()"
   ]
  },
  {
   "cell_type": "markdown",
   "id": "f8834ae5",
   "metadata": {},
   "source": [
    "Сравнение `period` в обучающей и тестовой выборке."
   ]
  },
  {
   "cell_type": "code",
   "execution_count": 37,
   "id": "8f58f034",
   "metadata": {},
   "outputs": [
    {
     "data": {
      "text/plain": [
       "(702086, 2)"
      ]
     },
     "execution_count": 37,
     "metadata": {},
     "output_type": "execute_result"
    }
   ],
   "source": [
    "data_period_train = pd.read_parquet(\n",
    "                                    f'{PATH_LOCAL}dataset_train.parquet',\n",
    "                                    columns=['id','period'],\n",
    "                                   )\n",
    "data_period_train.shape"
   ]
  },
  {
   "cell_type": "code",
   "execution_count": 38,
   "id": "f73b5d80",
   "metadata": {},
   "outputs": [
    {
     "data": {
      "text/plain": [
       "(60661, 2)"
      ]
     },
     "execution_count": 38,
     "metadata": {},
     "output_type": "execute_result"
    }
   ],
   "source": [
    "data_period_oot = pd.read_parquet(\n",
    "                                  f'{PATH_LOCAL}features_oot.parquet',\n",
    "                                  columns=['id','period'],\n",
    "                                 )\n",
    "data_period_oot.shape"
   ]
  },
  {
   "cell_type": "code",
   "execution_count": 39,
   "id": "f349813a",
   "metadata": {},
   "outputs": [
    {
     "data": {
      "text/html": [
       "<div>\n",
       "<style scoped>\n",
       "    .dataframe tbody tr th:only-of-type {\n",
       "        vertical-align: middle;\n",
       "    }\n",
       "\n",
       "    .dataframe tbody tr th {\n",
       "        vertical-align: top;\n",
       "    }\n",
       "\n",
       "    .dataframe thead th {\n",
       "        text-align: right;\n",
       "    }\n",
       "</style>\n",
       "<table border=\"1\" class=\"dataframe\">\n",
       "  <thead>\n",
       "    <tr style=\"text-align: left;\">\n",
       "      <th></th>\n",
       "      <th>period_count</th>\n",
       "    </tr>\n",
       "    <tr>\n",
       "      <th>period</th>\n",
       "      <th></th>\n",
       "    </tr>\n",
       "  </thead>\n",
       "  <tbody>\n",
       "    <tr>\n",
       "      <th>202201</th>\n",
       "      <td>27248</td>\n",
       "    </tr>\n",
       "    <tr>\n",
       "      <th>202202</th>\n",
       "      <td>25315</td>\n",
       "    </tr>\n",
       "    <tr>\n",
       "      <th>202203</th>\n",
       "      <td>29917</td>\n",
       "    </tr>\n",
       "    <tr>\n",
       "      <th>202204</th>\n",
       "      <td>20704</td>\n",
       "    </tr>\n",
       "    <tr>\n",
       "      <th>202205</th>\n",
       "      <td>26423</td>\n",
       "    </tr>\n",
       "    <tr>\n",
       "      <th>202206</th>\n",
       "      <td>20747</td>\n",
       "    </tr>\n",
       "    <tr>\n",
       "      <th>202207</th>\n",
       "      <td>50593</td>\n",
       "    </tr>\n",
       "    <tr>\n",
       "      <th>202208</th>\n",
       "      <td>59506</td>\n",
       "    </tr>\n",
       "    <tr>\n",
       "      <th>202209</th>\n",
       "      <td>20993</td>\n",
       "    </tr>\n",
       "    <tr>\n",
       "      <th>202210</th>\n",
       "      <td>247831</td>\n",
       "    </tr>\n",
       "    <tr>\n",
       "      <th>202211</th>\n",
       "      <td>101360</td>\n",
       "    </tr>\n",
       "    <tr>\n",
       "      <th>202212</th>\n",
       "      <td>71449</td>\n",
       "    </tr>\n",
       "  </tbody>\n",
       "</table>\n",
       "</div>"
      ],
      "text/plain": [
       "        period_count\n",
       "period              \n",
       "202201   27248      \n",
       "202202   25315      \n",
       "202203   29917      \n",
       "202204   20704      \n",
       "202205   26423      \n",
       "202206   20747      \n",
       "202207   50593      \n",
       "202208   59506      \n",
       "202209   20993      \n",
       "202210  247831      \n",
       "202211  101360      \n",
       "202212   71449      "
      ]
     },
     "execution_count": 39,
     "metadata": {},
     "output_type": "execute_result"
    }
   ],
   "source": [
    "data_period_train.groupby('period').agg(period_count=('period','count'))"
   ]
  },
  {
   "cell_type": "code",
   "execution_count": 40,
   "id": "8afc1909",
   "metadata": {},
   "outputs": [
    {
     "data": {
      "text/html": [
       "<div>\n",
       "<style scoped>\n",
       "    .dataframe tbody tr th:only-of-type {\n",
       "        vertical-align: middle;\n",
       "    }\n",
       "\n",
       "    .dataframe tbody tr th {\n",
       "        vertical-align: top;\n",
       "    }\n",
       "\n",
       "    .dataframe thead th {\n",
       "        text-align: right;\n",
       "    }\n",
       "</style>\n",
       "<table border=\"1\" class=\"dataframe\">\n",
       "  <thead>\n",
       "    <tr style=\"text-align: left;\">\n",
       "      <th></th>\n",
       "      <th>period_count</th>\n",
       "    </tr>\n",
       "    <tr>\n",
       "      <th>period</th>\n",
       "      <th></th>\n",
       "    </tr>\n",
       "  </thead>\n",
       "  <tbody>\n",
       "    <tr>\n",
       "      <th>202301</th>\n",
       "      <td>20467</td>\n",
       "    </tr>\n",
       "    <tr>\n",
       "      <th>202302</th>\n",
       "      <td>19648</td>\n",
       "    </tr>\n",
       "    <tr>\n",
       "      <th>202303</th>\n",
       "      <td>20546</td>\n",
       "    </tr>\n",
       "  </tbody>\n",
       "</table>\n",
       "</div>"
      ],
      "text/plain": [
       "        period_count\n",
       "period              \n",
       "202301  20467       \n",
       "202302  19648       \n",
       "202303  20546       "
      ]
     },
     "execution_count": 40,
     "metadata": {},
     "output_type": "execute_result"
    }
   ],
   "source": [
    "data_period_oot.groupby('period').agg(period_count=('period','count'))"
   ]
  },
  {
   "cell_type": "markdown",
   "id": "6b65f0ac",
   "metadata": {},
   "source": [
    "> Признак `period` включает год и месяц.  \n",
    "> Обучающая и тестовая выборки связаны хронологически: данные в тестовой получены после обучающей.\n",
    ">\n",
    "> Попробовать взять только часть информации.  \n",
    "> Например, за последние 2-3 месяца."
   ]
  },
  {
   "cell_type": "markdown",
   "id": "01546cb0",
   "metadata": {},
   "source": [
    "### Признак `channel` "
   ]
  },
  {
   "cell_type": "code",
   "execution_count": 41,
   "id": "70bb1f29",
   "metadata": {},
   "outputs": [],
   "source": [
    "data_channel_oot = pd.read_parquet(\n",
    "                                   f'{PATH_LOCAL}features_oot.parquet',\n",
    "                                   columns=['id','channel_name'],\n",
    "                                  )"
   ]
  },
  {
   "cell_type": "code",
   "execution_count": 42,
   "id": "483a7ef4",
   "metadata": {},
   "outputs": [],
   "source": [
    "data_channel_train = pd.read_parquet(\n",
    "                                   f'{PATH_LOCAL}dataset_train.parquet',\n",
    "                                   columns=['id','channel_name',TARGET],\n",
    "                                  )"
   ]
  },
  {
   "cell_type": "code",
   "execution_count": 43,
   "id": "cb963a55",
   "metadata": {},
   "outputs": [
    {
     "data": {
      "text/plain": [
       "3    60661\n",
       "Name: channel_name, dtype: int64"
      ]
     },
     "execution_count": 43,
     "metadata": {},
     "output_type": "execute_result"
    }
   ],
   "source": [
    "data_channel_oot.channel_name.value_counts()"
   ]
  },
  {
   "cell_type": "code",
   "execution_count": 44,
   "id": "8e4e3241",
   "metadata": {},
   "outputs": [
    {
     "data": {
      "text/plain": [
       "5    221058\n",
       "3    209022\n",
       "4    135852\n",
       "1    131566\n",
       "2      4588\n",
       "Name: channel_name, dtype: int64"
      ]
     },
     "execution_count": 44,
     "metadata": {},
     "output_type": "execute_result"
    }
   ],
   "source": [
    "data_channel_train.channel_name.value_counts()"
   ]
  },
  {
   "cell_type": "code",
   "execution_count": 45,
   "id": "99144771",
   "metadata": {},
   "outputs": [
    {
     "data": {
      "text/html": [
       "<div>\n",
       "<style scoped>\n",
       "    .dataframe tbody tr th:only-of-type {\n",
       "        vertical-align: middle;\n",
       "    }\n",
       "\n",
       "    .dataframe tbody tr th {\n",
       "        vertical-align: top;\n",
       "    }\n",
       "\n",
       "    .dataframe thead th {\n",
       "        text-align: right;\n",
       "    }\n",
       "</style>\n",
       "<table border=\"1\" class=\"dataframe\">\n",
       "  <thead>\n",
       "    <tr style=\"text-align: left;\">\n",
       "      <th></th>\n",
       "      <th>target</th>\n",
       "    </tr>\n",
       "    <tr>\n",
       "      <th>channel_name</th>\n",
       "      <th></th>\n",
       "    </tr>\n",
       "  </thead>\n",
       "  <tbody>\n",
       "    <tr>\n",
       "      <th>1</th>\n",
       "      <td>0.004</td>\n",
       "    </tr>\n",
       "    <tr>\n",
       "      <th>2</th>\n",
       "      <td>0.005</td>\n",
       "    </tr>\n",
       "    <tr>\n",
       "      <th>3</th>\n",
       "      <td>0.016</td>\n",
       "    </tr>\n",
       "    <tr>\n",
       "      <th>4</th>\n",
       "      <td>0.005</td>\n",
       "    </tr>\n",
       "    <tr>\n",
       "      <th>5</th>\n",
       "      <td>0.004</td>\n",
       "    </tr>\n",
       "  </tbody>\n",
       "</table>\n",
       "</div>"
      ],
      "text/plain": [
       "              target\n",
       "channel_name        \n",
       "1            0.004  \n",
       "2            0.005  \n",
       "3            0.016  \n",
       "4            0.005  \n",
       "5            0.004  "
      ]
     },
     "execution_count": 45,
     "metadata": {},
     "output_type": "execute_result"
    }
   ],
   "source": [
    "data_channel_train.groupby('channel_name').agg(target=('target','mean'))"
   ]
  },
  {
   "cell_type": "markdown",
   "id": "f89506b5",
   "metadata": {},
   "source": [
    "### Небольшие улучшения"
   ]
  },
  {
   "cell_type": "markdown",
   "id": "33490131",
   "metadata": {},
   "source": [
    "#### Новый признак `communique_num`\n",
    "\n",
    "Проверка версии: \"Вероятность сделки растет с увеличением числа коммуникаций с клиентом\".  \n",
    "Проверка будет на всех записях обучающего датасета."
   ]
  },
  {
   "cell_type": "code",
   "execution_count": 46,
   "id": "da74d6ba",
   "metadata": {},
   "outputs": [],
   "source": [
    "data_id_period = pd.read_parquet(\n",
    "                                 f'{PATH_LOCAL}dataset_train.parquet',\n",
    "                                 columns=['id','period','target'],\n",
    "                                )"
   ]
  },
  {
   "cell_type": "code",
   "execution_count": 47,
   "id": "37877766",
   "metadata": {},
   "outputs": [],
   "source": [
    "data_id_period.sort_values(['id','period'], inplace=True)\n",
    "\n",
    "# новый признак 'communique_num' нарастающий итог коммуникаций с клиентом\n",
    "data_id_period['communique_num'] = data_id_period.groupby('id').cumcount() + 1"
   ]
  },
  {
   "cell_type": "code",
   "execution_count": 48,
   "id": "871b4280",
   "metadata": {},
   "outputs": [
    {
     "data": {
      "text/plain": [
       "communique_num\n",
       "1    4602\n",
       "2     734\n",
       "3     118\n",
       "4      14\n",
       "5       1\n",
       "dtype: int64"
      ]
     },
     "execution_count": 48,
     "metadata": {},
     "output_type": "execute_result"
    }
   ],
   "source": [
    "data_id_period[data_id_period.target == 1].value_counts('communique_num')"
   ]
  },
  {
   "cell_type": "markdown",
   "id": "9d031eb3",
   "metadata": {},
   "source": [
    "> Похоже, версия не подтвердилась (("
   ]
  },
  {
   "cell_type": "markdown",
   "id": "6b3cd565",
   "metadata": {},
   "source": [
    "#### Тип данных для категориальных полей"
   ]
  },
  {
   "cell_type": "code",
   "execution_count": 49,
   "id": "7273b608",
   "metadata": {},
   "outputs": [],
   "source": [
    "data_train[categorical_str] = data_train[categorical_str].astype('category')\n",
    "data_train[categorical_int] = data_train[categorical_int].astype('category')"
   ]
  },
  {
   "cell_type": "code",
   "execution_count": 50,
   "id": "149e5835",
   "metadata": {},
   "outputs": [
    {
     "name": "stdout",
     "output_type": "stream",
     "text": [
      "<class 'pandas.core.frame.DataFrame'>\n",
      "RangeIndex: 45938 entries, 0 to 45937\n",
      "Data columns (total 3 columns):\n",
      " #   Column                     Non-Null Count  Dtype   \n",
      "---  ------                     --------------  -----   \n",
      " 0   materials_details_0_1_ctg  45938 non-null  category\n",
      " 1   materials_details_1_1_ctg  45938 non-null  category\n",
      " 2   user_lifetime_0_1_ctg      45938 non-null  category\n",
      "dtypes: category(3)\n",
      "memory usage: 138.0 KB\n"
     ]
    }
   ],
   "source": [
    "data_train[categorical_str].iloc[:,:3].info()"
   ]
  },
  {
   "cell_type": "code",
   "execution_count": 51,
   "id": "4c903db3",
   "metadata": {},
   "outputs": [
    {
     "name": "stdout",
     "output_type": "stream",
     "text": [
      "<class 'pandas.core.frame.DataFrame'>\n",
      "RangeIndex: 45938 entries, 0 to 45937\n",
      "Data columns (total 3 columns):\n",
      " #   Column                              Non-Null Count  Dtype   \n",
      "---  ------                              --------------  -----   \n",
      " 0   communication_availability_0_1_flg  45938 non-null  category\n",
      " 1   communication_availability_1_1_ctg  45938 non-null  category\n",
      " 2   communication_availability_2_1_flg  45938 non-null  category\n",
      "dtypes: category(3)\n",
      "memory usage: 135.3 KB\n"
     ]
    }
   ],
   "source": [
    "data_train[categorical_int].iloc[:,:3].info()"
   ]
  },
  {
   "cell_type": "markdown",
   "id": "e97fdd71",
   "metadata": {},
   "source": [
    "#### Оптимизация типов данных"
   ]
  },
  {
   "cell_type": "code",
   "execution_count": 52,
   "id": "8a1a934e",
   "metadata": {},
   "outputs": [
    {
     "name": "stdout",
     "output_type": "stream",
     "text": [
      "CPU times: total: 0 ns\n",
      "Wall time: 0 ns\n"
     ]
    }
   ],
   "source": [
    "%%time\n",
    "\n",
    "# data_train = reduce_memory_usage(data_train, verbose='short')"
   ]
  },
  {
   "cell_type": "markdown",
   "id": "8d3ffdf6-3cf0-45f8-ad79-4908c85ff8b6",
   "metadata": {},
   "source": [
    "> Факты из описания заказчика.\n",
    "> 1. Набор признаков постоянно меняется: одни остаются, другие исчезают (например, связанные с разовыми акциями). Появляются новые признаки.\n",
    "> 2. Признаки создаются различными путями, в том числе генерацией за разные временные промежутки.\n",
    "> 3. С течением времени значения признаков могут изменяться и, как следствие, изменяется значимость этих признаков.\n",
    "> 4. Регулярно осуществляется повторное обучение модели на новых данных.\n",
    "> 5. Для заказчика приемлемо определенное значение метрики, определяющей качество модели. Основной метрикой выбрана ROC-AUC.\n",
    ">\n",
    "> Принимая во внимание вышеописанные факты, было принято решение сосредоточиться на сокращении количества признаков, используемых для моделирования, при сохранениии приемлемого качества модели.\n",
    "> \n",
    "> Премущества такого решения:\n",
    "> 1. Закачик сможет регулярно обучать модель, затрачивая меньшее количество ресурсов.\n",
    "> 2. Заказчик получит более стабильную серию моделей, легче поддающихся анализу.\n",
    "> 3. Заказчик сможет скорректировать процесс генерации новых признаков.\n",
    "> 4. Закачик сможет сосредоточиться на улучшении качества модели, благодаря существенному сокращению требуемых ресурсов для вычислений.\n",
    "\n"
   ]
  },
  {
   "cell_type": "markdown",
   "id": "685cf2d3",
   "metadata": {},
   "source": [
    "## Предобработка"
   ]
  },
  {
   "cell_type": "markdown",
   "id": "b11a61c3",
   "metadata": {},
   "source": [
    "### Удаление признаков с пропусками\n",
    "\n",
    "Удаление признаков с долей пропусков выше определенного порога"
   ]
  },
  {
   "cell_type": "code",
   "execution_count": 53,
   "id": "04d84dd9",
   "metadata": {},
   "outputs": [
    {
     "data": {
      "text/plain": [
       "(45938, 2780)"
      ]
     },
     "execution_count": 53,
     "metadata": {},
     "output_type": "execute_result"
    }
   ],
   "source": [
    "data_train.shape"
   ]
  },
  {
   "cell_type": "code",
   "execution_count": 54,
   "id": "b1a324b1",
   "metadata": {},
   "outputs": [
    {
     "data": {
      "text/plain": [
       "campaigns_293_6_part   0.010\n",
       "campaigns_248_3_part   0.010\n",
       "markers_901_1_cnt      0.060\n",
       "dtype: float64"
      ]
     },
     "execution_count": 54,
     "metadata": {},
     "output_type": "execute_result"
    }
   ],
   "source": [
    "df = (data_train.drop(TARGET, axis=1).isna().sum() / data_train.shape[0]).sort_values(ascending=False)\n",
    "df.sample(3)"
   ]
  },
  {
   "cell_type": "code",
   "execution_count": 55,
   "id": "ae0fa69b",
   "metadata": {},
   "outputs": [],
   "source": [
    "drop_feature_list = df[df > NAN_THRESHOLD].index.to_list()\n",
    "\n",
    "data_train = data_train.drop(drop_feature_list, axis=1)"
   ]
  },
  {
   "cell_type": "code",
   "execution_count": 56,
   "id": "6dfc411e",
   "metadata": {},
   "outputs": [
    {
     "data": {
      "text/plain": [
       "(45938, 2236)"
      ]
     },
     "execution_count": 56,
     "metadata": {},
     "output_type": "execute_result"
    }
   ],
   "source": [
    "data_train.shape"
   ]
  },
  {
   "cell_type": "markdown",
   "id": "68054559-7673-4c78-b71d-29b7a23fae14",
   "metadata": {},
   "source": [
    "> Поскольку поставленная цель — сокращение количества признаков, то первым делом произведено исключение признаков с большим количеством пропущенных значений.\n",
    ">\n",
    "> Допустимое количество пропусков сохранено в константе `NAN_THRESHOLD` и может быть настроено по усмотрению закачика.  \n",
    "> В данном проекте используется `NAN_THRESHOLD = 0.2`"
   ]
  },
  {
   "cell_type": "markdown",
   "id": "653c0e1f",
   "metadata": {},
   "source": [
    "### Константные признаки\n",
    "\n",
    "Можно прихватить и признаки с низкой дисперсией, регулируя порог.  \n",
    "Можно и слишком высокодисперсионные удалить."
   ]
  },
  {
   "cell_type": "code",
   "execution_count": 57,
   "id": "041ce8c2",
   "metadata": {},
   "outputs": [
    {
     "data": {
      "text/plain": [
       "227"
      ]
     },
     "execution_count": 57,
     "metadata": {},
     "output_type": "execute_result"
    }
   ],
   "source": [
    "def find_columns_with_same_values(df):\n",
    "    '''\n",
    "    Функция на тот случай, если определения константности признака по STD будет недостаточно.\n",
    "    Например, для данных типа object.\n",
    "    '''\n",
    "    columns_with_same_values = []\n",
    "    \n",
    "    for column in df.columns:\n",
    "        if df[column].nunique() == 1:\n",
    "            columns_with_same_values.append(column)\n",
    "            \n",
    "    return columns_with_same_values\n",
    "\n",
    "\n",
    "len(find_columns_with_same_values(data_train))    # для сравнения результата функции с результатом метода std"
   ]
  },
  {
   "cell_type": "code",
   "execution_count": 58,
   "id": "c9ce8520",
   "metadata": {},
   "outputs": [
    {
     "name": "stdout",
     "output_type": "stream",
     "text": [
      "CPU times: total: 4.77 s\n",
      "Wall time: 4.81 s\n"
     ]
    },
    {
     "data": {
      "text/plain": [
       "period            0.402\n",
       "target            0.143\n",
       "markers_0_1_cnt   0.029\n",
       "dtype: float64"
      ]
     },
     "execution_count": 58,
     "metadata": {},
     "output_type": "execute_result"
    }
   ],
   "source": [
    "%%time\n",
    "\n",
    "scaler = MinMaxScaler().fit(data_train.select_dtypes(include='number'))\n",
    "\n",
    "df = pd.DataFrame(scaler.transform(data_train.select_dtypes(include='number')), columns=data_train.select_dtypes(include='number').columns).std()\n",
    "\n",
    "df.head(3)"
   ]
  },
  {
   "cell_type": "code",
   "execution_count": 60,
   "id": "9a721d17",
   "metadata": {},
   "outputs": [
    {
     "data": {
      "text/plain": [
       "226"
      ]
     },
     "execution_count": 60,
     "metadata": {},
     "output_type": "execute_result"
    }
   ],
   "source": [
    "df[df == 0].shape[0]"
   ]
  },
  {
   "cell_type": "code",
   "execution_count": 61,
   "id": "c0ad186d",
   "metadata": {},
   "outputs": [
    {
     "data": {
      "text/plain": [
       "877"
      ]
     },
     "execution_count": 61,
     "metadata": {},
     "output_type": "execute_result"
    }
   ],
   "source": [
    "df[df <= STD_MIN_THRESHOLD].shape[0]"
   ]
  },
  {
   "cell_type": "code",
   "execution_count": 62,
   "id": "f53a71c5",
   "metadata": {},
   "outputs": [
    {
     "data": {
      "text/plain": [
       "0"
      ]
     },
     "execution_count": 62,
     "metadata": {},
     "output_type": "execute_result"
    }
   ],
   "source": [
    "df[df >= STD_MAX_THRESHOLD].shape[0]"
   ]
  },
  {
   "cell_type": "code",
   "execution_count": 63,
   "id": "348d460d",
   "metadata": {},
   "outputs": [
    {
     "data": {
      "text/plain": [
       "877"
      ]
     },
     "execution_count": 63,
     "metadata": {},
     "output_type": "execute_result"
    }
   ],
   "source": [
    "drop_feature_list = df[(df <= STD_MIN_THRESHOLD) | (df >= STD_MAX_THRESHOLD)].index.to_list()\n",
    "\n",
    "len(drop_feature_list)"
   ]
  },
  {
   "cell_type": "code",
   "execution_count": 64,
   "id": "1dd71fcb",
   "metadata": {},
   "outputs": [
    {
     "data": {
      "text/plain": [
       "(45938, 1359)"
      ]
     },
     "execution_count": 64,
     "metadata": {},
     "output_type": "execute_result"
    }
   ],
   "source": [
    "data_train = data_train.drop(drop_feature_list, axis=1)\n",
    "\n",
    "data_train.shape"
   ]
  },
  {
   "attachments": {},
   "cell_type": "markdown",
   "id": "b3a9092e-da21-4c2b-8009-4965051c302e",
   "metadata": {},
   "source": [
    "> Следующим шагом исключены признаки с низкой и высокой дисперсией.\n",
    ">\n",
    "> Допустимый диапазон значений стандартного отклонения сохранен в константах `STD_MIN_THRESHOLD` и `STD_MAX_THRESHOLD` и может быть настроен по усмотрению закачика.\n",
    "> \n",
    "> В данном проекте используется `STD_MIN_THRESHOLD = 0.02` и `STD_MIN_THRESHOLD = 1` (т.е. фактически высокодисперсионные признаки не исключаются)."
   ]
  },
  {
   "cell_type": "markdown",
   "id": "ad01e653",
   "metadata": {},
   "source": [
    "### Заполнение пропусков"
   ]
  },
  {
   "cell_type": "code",
   "execution_count": 65,
   "id": "a47a49fe",
   "metadata": {},
   "outputs": [],
   "source": [
    "# data_train.isna().sum()"
   ]
  },
  {
   "cell_type": "code",
   "execution_count": 66,
   "id": "edaf814b",
   "metadata": {},
   "outputs": [],
   "source": [
    "# data_train = data_train.fillna(0)"
   ]
  },
  {
   "cell_type": "markdown",
   "id": "83548dc3",
   "metadata": {},
   "source": [
    "Следующий метод подходит только для небольших датасетов."
   ]
  },
  {
   "cell_type": "code",
   "execution_count": 67,
   "id": "65040323",
   "metadata": {},
   "outputs": [],
   "source": [
    "# imputer = IterativeImputer(verbose=3, random_state=RS)\n",
    "# imputer.fit(data_train)\n",
    "# imputer_data = imputer.transform(data_train)\n",
    "# imputer_data = pd.DataFrame(imputer_data,columns=new_data.columns)"
   ]
  },
  {
   "cell_type": "markdown",
   "id": "527b5172-d5c0-42d0-a493-6a68dba35586",
   "metadata": {},
   "source": [
    "> Пока не применяется.  \n",
    "> Для CatBoost используется внутренний алгоритм.  \n",
    "> Если потребуется, нужно применить заполнение пропусков к очищенному датасету."
   ]
  },
  {
   "cell_type": "markdown",
   "id": "ea284c23",
   "metadata": {},
   "source": [
    "## Подготовка данных для модели"
   ]
  },
  {
   "cell_type": "markdown",
   "id": "04357e5a",
   "metadata": {},
   "source": [
    "### Выделение признаков и целевой переменной"
   ]
  },
  {
   "cell_type": "code",
   "execution_count": 68,
   "id": "066a87b8",
   "metadata": {},
   "outputs": [
    {
     "data": {
      "text/plain": [
       "((45938, 1357), (45938,))"
      ]
     },
     "execution_count": 68,
     "metadata": {},
     "output_type": "execute_result"
    }
   ],
   "source": [
    "X = data_train.drop(['id', TARGET], axis=1)\n",
    "Y = data_train[TARGET]\n",
    "\n",
    "X.shape, Y.shape"
   ]
  },
  {
   "cell_type": "code",
   "execution_count": 69,
   "id": "a06a96c8",
   "metadata": {},
   "outputs": [
    {
     "data": {
      "text/plain": [
       "['channel_name',\n",
       " 'materials_details_0_1_ctg',\n",
       " 'materials_details_1_1_ctg',\n",
       " 'user_lifetime_0_1_ctg',\n",
       " 'tariff_plans_12_1_ctg']"
      ]
     },
     "execution_count": 69,
     "metadata": {},
     "output_type": "execute_result"
    }
   ],
   "source": [
    "cat_features = X.select_dtypes(exclude='number').columns.to_list()\n",
    "cat_features[:5]"
   ]
  },
  {
   "cell_type": "markdown",
   "id": "7bc700bd-fd45-44d5-8db5-ac03bb086ff7",
   "metadata": {},
   "source": [
    "> Так можно сделать, поскольку ранее все численные категориальные признаки были приведены к типу `category`."
   ]
  },
  {
   "cell_type": "markdown",
   "id": "985e4c3c",
   "metadata": {},
   "source": [
    "### Разделение на обучающую и валидационную выборки"
   ]
  },
  {
   "cell_type": "code",
   "execution_count": 70,
   "id": "c30a6117",
   "metadata": {},
   "outputs": [],
   "source": [
    "# X_train, X_valid, Y_train, Y_valid = train_test_split(X, Y, train_size=TRAIN_FRAC, stratify=Y, random_state=RS)\n",
    "\n",
    "# X_train.shape, Y_train.shape, X_valid.shape, Y_valid.shape"
   ]
  },
  {
   "cell_type": "code",
   "execution_count": 71,
   "id": "d0fe194a",
   "metadata": {},
   "outputs": [
    {
     "data": {
      "text/plain": [
       "((32153, 1357), (13785, 1357), (32153,), (13785,))"
      ]
     },
     "execution_count": 71,
     "metadata": {},
     "output_type": "execute_result"
    }
   ],
   "source": [
    "splitter = GroupShuffleSplit(n_splits=1, train_size=TRAIN_FRAC, random_state=RS)\n",
    "id_groups = data_train.id\n",
    "\n",
    "train_idx, valid_idx = next(splitter.split(X, Y, groups=id_groups))\n",
    "\n",
    "X_train = X.loc[train_idx, :]\n",
    "X_valid = X.loc[valid_idx, :]\n",
    "\n",
    "Y_train = Y[train_idx]\n",
    "Y_valid = Y[valid_idx]\n",
    "\n",
    "X_train.shape, X_valid.shape, Y_train.shape, Y_valid.shape"
   ]
  },
  {
   "cell_type": "code",
   "execution_count": 72,
   "id": "6c16a509",
   "metadata": {},
   "outputs": [
    {
     "data": {
      "text/plain": [
       "(0   0.979\n",
       " 1   0.021\n",
       " Name: target, dtype: float64,\n",
       " 0   0.979\n",
       " 1   0.021\n",
       " Name: target, dtype: float64)"
      ]
     },
     "execution_count": 72,
     "metadata": {},
     "output_type": "execute_result"
    }
   ],
   "source": [
    "Y_train.value_counts(normalize=True), Y_valid.value_counts(normalize=True)"
   ]
  },
  {
   "cell_type": "code",
   "execution_count": 73,
   "id": "90f86965",
   "metadata": {},
   "outputs": [
    {
     "data": {
      "text/plain": [
       "(0, 2715)"
      ]
     },
     "execution_count": 73,
     "metadata": {},
     "output_type": "execute_result"
    }
   ],
   "source": [
    "# проверка: в X_train и X_valid нет одинаковых 'id'\n",
    "# (предварительно для X_train и X_valid присоединяется прихнак 'id' из data_train)\n",
    "\n",
    "X_train.join(data_train['id']).merge(X_valid.join(data_train['id']), on='id').shape"
   ]
  },
  {
   "cell_type": "markdown",
   "id": "3a83184e-ab09-4772-8b4a-67c7df8bdd24",
   "metadata": {},
   "source": [
    "> `GroupShuffleSplit` гарантирует, что один и тот же клиент (с одинаковым `id`) должен попасть либо в test, либо в valid."
   ]
  },
  {
   "cell_type": "markdown",
   "id": "828e7734",
   "metadata": {},
   "source": [
    "### Пайплайн предобработки"
   ]
  },
  {
   "cell_type": "code",
   "execution_count": 74,
   "id": "653c0132",
   "metadata": {},
   "outputs": [],
   "source": [
    "num_selector = make_column_selector(dtype_include='number')\n",
    "cat_selector = make_column_selector(dtype_exclude='number')"
   ]
  },
  {
   "cell_type": "code",
   "execution_count": 75,
   "id": "3985d215",
   "metadata": {},
   "outputs": [],
   "source": [
    "num_preprocessor = make_pipeline(\n",
    "                                 SimpleImputer(strategy='median'),\n",
    "                                 RobustScaler(),\n",
    "                                )\n",
    "\n",
    "cat_preprocessor_linr = make_pipeline(\n",
    "                                      SimpleImputer(strategy='most_frequent'),\n",
    "                                      OneHotEncoder(drop='first', handle_unknown='infrequent_if_exist', max_categories=10),\n",
    "                                     )\n",
    "\n",
    "cat_preprocessor_tree = make_pipeline(\n",
    "                                      SimpleImputer(strategy='most_frequent'),\n",
    "                                      OrdinalEncoder(handle_unknown='use_encoded_value', unknown_value=-1, max_categories=10)\n",
    "                                     )"
   ]
  },
  {
   "cell_type": "code",
   "execution_count": 76,
   "id": "9c61f078",
   "metadata": {},
   "outputs": [],
   "source": [
    "preprocessing_linr = make_column_transformer(\n",
    "                                             (num_preprocessor, num_selector),\n",
    "                                             (cat_preprocessor_linr, cat_selector),\n",
    "                                            )\n",
    "\n",
    "preprocessing_tree = make_column_transformer(\n",
    "                                             (num_preprocessor, num_selector),\n",
    "                                             (cat_preprocessor_tree, cat_selector),\n",
    "                                            )\n",
    "\n",
    "# preprocessing_catBoost = make_column_transformer(\n",
    "#                                              (num_preprocessor, num_selector),\n",
    "#                                             )"
   ]
  },
  {
   "cell_type": "code",
   "execution_count": 77,
   "id": "d750ebc8",
   "metadata": {},
   "outputs": [],
   "source": [
    "# X_train = preprocessing_linr.fit_transform(X_train)\n",
    "# X_valid = preprocessing_linr.transform(X_valid)"
   ]
  },
  {
   "cell_type": "code",
   "execution_count": 78,
   "id": "85db354e",
   "metadata": {},
   "outputs": [
    {
     "data": {
      "text/plain": [
       "(32153, 1357)"
      ]
     },
     "execution_count": 78,
     "metadata": {},
     "output_type": "execute_result"
    }
   ],
   "source": [
    "X_train.shape"
   ]
  },
  {
   "cell_type": "markdown",
   "id": "68a65dd2-79b6-4599-ac47-d1a27b2f22ae",
   "metadata": {},
   "source": [
    "> Поскольку далее используется Catboost, пайплайн предобработки не задействован.  \n",
    "> Пока оставлю: возможно, потребуется."
   ]
  },
  {
   "cell_type": "markdown",
   "id": "ccf6eb77",
   "metadata": {},
   "source": [
    "### Feature Selection"
   ]
  },
  {
   "cell_type": "markdown",
   "id": "2c63cf87",
   "metadata": {},
   "source": [
    "#### RFECV"
   ]
  },
  {
   "cell_type": "code",
   "execution_count": 79,
   "id": "004f13ad",
   "metadata": {},
   "outputs": [],
   "source": [
    "def plot_reduce_feature_list(feature_selection, iteration_num):\n",
    "    '''\n",
    "    Выводит график зависимости метрики от количества отобранных признаков\n",
    "    '''\n",
    "    n_scores = len(feature_selection.cv_results_['mean_test_score'])\n",
    "\n",
    "    fig, ax = plt.subplots(figsize=(15,4), dpi=PLOT_DPI)\n",
    "    plt.xlabel('Number of features selected')\n",
    "    plt.ylabel('Mean test score')\n",
    "    plt.errorbar(\n",
    "                 np.linspace(n_features_to_select, feature_selection.n_features_in_, n_scores),\n",
    "                 feature_selection.cv_results_['mean_test_score'],\n",
    "                 yerr=feature_selection.cv_results_['std_test_score'],\n",
    "                )\n",
    "    plt.title(f'RFE selected {feature_selection.n_features_} features on {iteration_num} iteration')\n",
    "    plt.show()"
   ]
  },
  {
   "cell_type": "code",
   "execution_count": 80,
   "id": "b10d0784",
   "metadata": {},
   "outputs": [],
   "source": [
    "def reduce_feature_list(X, iteration_num):\n",
    "    '''\n",
    "    Делает отбор признаков с помощью RFECV.\n",
    "    Количество отобранных признаков может быть больше количества,\n",
    "    задаваемого параметром min_features_to_select (передается константой N_FEATURES_TO_SELECT).\n",
    "    '''\n",
    "    estimator = CatBoostClassifier(\n",
    "    #                                cat_features=cat_features,\n",
    "                                   eval_metric='AUC',\n",
    "                                   iterations=100,\n",
    "                                   one_hot_max_size=10,\n",
    "                                   random_seed=RS,\n",
    "                                   verbose=False,\n",
    "                                  )\n",
    "    \n",
    "    n_splits = min(2 + iteration_num, 5)        # для первых итераций отбора признаков достаточно меньшего количества фолдов,\n",
    "    cv = StratifiedKFold(n_splits=n_splits)     # но в любом случае не более 5 фолдов\n",
    "\n",
    "    feature_selection = RFECV(estimator, min_features_to_select=N_FEATURES_TO_SELECT,\n",
    "                              step=0.02, scoring='roc_auc', cv=cv, verbose=0, n_jobs=-1)\n",
    "\n",
    "    feature_selection.fit(X, Y)\n",
    "\n",
    "    selected_features = X.loc[:, feature_selection.support_].columns.to_list()\n",
    "    X = X.loc[:, feature_selection.support_]\n",
    "\n",
    "    plot_reduce_feature_list(feature_selection, iteration_num + 1)\n",
    "    X.info(verbose=False, memory_usage='deep')\n",
    "    print()\n",
    "    \n",
    "    return X, selected_features"
   ]
  },
  {
   "cell_type": "code",
   "execution_count": 81,
   "id": "a9054dac",
   "metadata": {},
   "outputs": [
    {
     "data": {
      "image/png": "[encoded data removed]",
      "text/plain": [
       "<Figure size 2250x600 with 1 Axes>"
      ]
     },
     "metadata": {},
     "output_type": "display_data"
    },
    {
     "name": "stdout",
     "output_type": "stream",
     "text": [
      "<class 'pandas.core.frame.DataFrame'>\n",
      "RangeIndex: 45938 entries, 0 to 45937\n",
      "Columns: 1033 entries, markers_4_1_cnt to tariff_plans_26_src_id\n",
      "dtypes: category(163), float64(870)\n",
      "memory usage: 314.4 MB\n",
      "\n"
     ]
    },
    {
     "data": {
      "image/png": "[encoded data removed]",
      "text/plain": [
       "<Figure size 2250x600 with 1 Axes>"
      ]
     },
     "metadata": {},
     "output_type": "display_data"
    },
    {
     "name": "stdout",
     "output_type": "stream",
     "text": [
      "<class 'pandas.core.frame.DataFrame'>\n",
      "RangeIndex: 45938 entries, 0 to 45937\n",
      "Columns: 933 entries, markers_5_1_cnt to tariff_plans_26_src_id\n",
      "dtypes: category(161), float64(772)\n",
      "memory usage: 280.0 MB\n",
      "\n"
     ]
    },
    {
     "data": {
      "image/png": "[encoded data removed]",
      "text/plain": [
       "<Figure size 2250x600 with 1 Axes>"
      ]
     },
     "metadata": {},
     "output_type": "display_data"
    },
    {
     "name": "stdout",
     "output_type": "stream",
     "text": [
      "<class 'pandas.core.frame.DataFrame'>\n",
      "RangeIndex: 45938 entries, 0 to 45937\n",
      "Columns: 465 entries, markers_22_1_cnt to communication_availability_64_1_flg\n",
      "dtypes: category(95), float64(370)\n",
      "memory usage: 134.7 MB\n",
      "\n"
     ]
    },
    {
     "data": {
      "image/png": "[encoded data removed]",
      "text/plain": [
       "<Figure size 2250x600 with 1 Axes>"
      ]
     },
     "metadata": {},
     "output_type": "display_data"
    },
    {
     "name": "stdout",
     "output_type": "stream",
     "text": [
      "<class 'pandas.core.frame.DataFrame'>\n",
      "RangeIndex: 45938 entries, 0 to 45937\n",
      "Columns: 159 entries, markers_22_1_cnt to migrant_0_1_flg\n",
      "dtypes: category(11), float64(148)\n",
      "memory usage: 52.8 MB\n",
      "\n"
     ]
    },
    {
     "data": {
      "image/png": "[encoded data removed]",
      "text/plain": [
       "<Figure size 2250x600 with 1 Axes>"
      ]
     },
     "metadata": {},
     "output_type": "display_data"
    },
    {
     "name": "stdout",
     "output_type": "stream",
     "text": [
      "<class 'pandas.core.frame.DataFrame'>\n",
      "RangeIndex: 45938 entries, 0 to 45937\n",
      "Columns: 102 entries, markers_25_1_cnt to tariff_plans_17_src_id\n",
      "dtypes: category(9), float64(93)\n",
      "memory usage: 33.4 MB\n",
      "\n"
     ]
    }
   ],
   "source": [
    "for iteration_num in range(5):                                        # 5 итераций обычно хватает, но можно увеличить\n",
    "    X, selected_features = reduce_feature_list(X, iteration_num)"
   ]
  },
  {
   "cell_type": "markdown",
   "id": "0b2dd7b6-d18c-4205-925a-c08e144b783a",
   "metadata": {},
   "source": [
    "> С помощью **RFECV** количество признаков сокращется за несколько итераций.  \n",
    "> Количество отобранных признаков может быть больше заданного константой `N_FEATURES_TO_SELECT`."
   ]
  },
  {
   "cell_type": "markdown",
   "id": "5a2fe74f",
   "metadata": {},
   "source": [
    "#### RFE"
   ]
  },
  {
   "cell_type": "code",
   "execution_count": 82,
   "id": "05a94d3f",
   "metadata": {},
   "outputs": [
    {
     "name": "stdout",
     "output_type": "stream",
     "text": [
      "CPU times: total: 4min 46s\n",
      "Wall time: 1min 27s\n"
     ]
    }
   ],
   "source": [
    "%%time\n",
    "\n",
    "estimator = CatBoostClassifier(\n",
    "#                                cat_features=cat_features,\n",
    "                               eval_metric='AUC',\n",
    "                               iterations=100,\n",
    "                               random_seed=RS,\n",
    "                               verbose=False,\n",
    "                              )\n",
    "\n",
    "feature_selection = RFE(estimator, n_features_to_select=n_features_to_select, step=0.01, verbose=0)\n",
    "feature_selection.fit(X, Y)\n",
    "\n",
    "selected_features = X.loc[:, feature_selection.support_].columns.to_list()"
   ]
  },
  {
   "cell_type": "markdown",
   "id": "ce771d0a-7e86-4f78-8b0d-0cdd01332b1a",
   "metadata": {},
   "source": [
    "> Если на предыдущем этапе количество отобранных признаков оказалось больше заданного константой `N_FEATURES_TO_SELECT`, то с помощью **RFE** отбирается строго заданное количество признаков."
   ]
  },
  {
   "cell_type": "markdown",
   "id": "555fa957",
   "metadata": {},
   "source": [
    "#### Отобранные признаки"
   ]
  },
  {
   "cell_type": "code",
   "execution_count": 83,
   "id": "84ec959d",
   "metadata": {
    "scrolled": true
   },
   "outputs": [
    {
     "data": {
      "text/plain": [
       "['markers_32_1_cnt',\n",
       " 'markers_40_1_cnt',\n",
       " 'markers_68_1_cnt',\n",
       " 'markers_72_1_cnt',\n",
       " 'markers_102_1_cnt',\n",
       " 'markers_146_1_cnt',\n",
       " 'markers_149_1_cnt',\n",
       " 'markers_171_1_cnt',\n",
       " 'markers_299_1_cnt',\n",
       " 'markers_310_1_cnt',\n",
       " 'markers_334_1_cnt',\n",
       " 'markers_346_1_cnt',\n",
       " 'markers_364_1_cnt',\n",
       " 'markers_508_1_cnt',\n",
       " 'markers_576_1_cnt',\n",
       " 'markers_701_1_cnt',\n",
       " 'markers_761_1_cnt',\n",
       " 'spas_symptoms_agr_10_12_sum',\n",
       " 'charges_details_16_3_avg',\n",
       " 'tariff_plans_4_1_num',\n",
       " 'payments_details_46_1_sum',\n",
       " 'payments_details_47_3_avg',\n",
       " 'plan_costs_4_3_avg',\n",
       " 'plan_costs_6_1_sum',\n",
       " 'spas_symptoms_int_10_1_cnt',\n",
       " 'spas_symptoms_int_14_1_cnt',\n",
       " 'spas_symptoms_int_72_1_cnt',\n",
       " 'spas_symptoms_agr_106_12_sum',\n",
       " 'spas_symptoms_agr_250_12_sum',\n",
       " 'campaigns_347_3d6_part',\n",
       " 'campaigns_363_1d3_part',\n",
       " 'campaigns_366_3_part',\n",
       " 'campaigns_367_3d6_part',\n",
       " 'campaigns_368_6_cnt',\n",
       " 'campaigns_375_6_part',\n",
       " 'campaigns_378_6_cnt',\n",
       " 'campaigns_384_3_part',\n",
       " 'campaigns_391_1d6_part',\n",
       " 'campaigns_394_3d6_part',\n",
       " 'campaigns_395_6_part',\n",
       " 'campaigns_401_3_part',\n",
       " 'overdue_payments_0_1_cnt',\n",
       " 'user_devices_30_1_cnt',\n",
       " 'markers_896_1_cnt',\n",
       " 'tariff_plans_16_1_ctg',\n",
       " 'tariff_plans_18_1_ctg',\n",
       " 'materials_details_15_1_ctg',\n",
       " 'cities_2_0_ctg',\n",
       " 'communication_availability_30_1_flg',\n",
       " 'tariff_plans_17_src_id']"
      ]
     },
     "execution_count": 83,
     "metadata": {},
     "output_type": "execute_result"
    }
   ],
   "source": [
    "if 'period' in selected_features:\n",
    "    selected_features.remove('period')\n",
    "    \n",
    "selected_features"
   ]
  },
  {
   "cell_type": "code",
   "execution_count": 84,
   "id": "acb56504",
   "metadata": {},
   "outputs": [
    {
     "data": {
      "text/plain": [
       "50"
      ]
     },
     "execution_count": 84,
     "metadata": {},
     "output_type": "execute_result"
    }
   ],
   "source": [
    "len(selected_features)"
   ]
  },
  {
   "cell_type": "markdown",
   "id": "4c1dbb1c-119b-4e33-a01a-6dbaaffdae54",
   "metadata": {},
   "source": [
    "> На всякий случай проверено, нет ли среди отобранных признаков признака `period`.  \n",
    "> Если есть, он удаляется."
   ]
  },
  {
   "cell_type": "markdown",
   "id": "1a8022b2",
   "metadata": {},
   "source": [
    "### Загрузка обучающих данных"
   ]
  },
  {
   "cell_type": "code",
   "execution_count": 85,
   "id": "df7c5d43",
   "metadata": {},
   "outputs": [],
   "source": [
    "# train_file_path = f'{PATH_LOCAL}dataset_train.parquet'\n",
    "# n_rows = 3\n",
    "\n",
    "# duckdb.query(f'SELECT \"markers_30_1_cnt\", \"markers_32_1_cnt\" FROM \"{train_file_path}\" LIMIT {n_rows};').df()"
   ]
  },
  {
   "cell_type": "code",
   "execution_count": 86,
   "id": "73490496",
   "metadata": {},
   "outputs": [],
   "source": [
    "data_train = pd.read_parquet(\n",
    "                             f'{PATH_LOCAL}dataset_train.parquet',\n",
    "                             columns=['id', TARGET] + selected_features,\n",
    "                             memory_map=True,\n",
    "                             filters=[('period', '<=',  202211), ('channel_name', '=', '3')]\n",
    "                            )"
   ]
  },
  {
   "cell_type": "code",
   "execution_count": 87,
   "id": "83febd2d",
   "metadata": {},
   "outputs": [],
   "source": [
    "data_valid = pd.read_parquet(\n",
    "                             f'{PATH_LOCAL}dataset_train.parquet',\n",
    "                             columns=['id', TARGET] + selected_features,\n",
    "                             memory_map=True,\n",
    "                             filters=[('period', '>',  202211), ('channel_name', '=', '3')]\n",
    "                            )"
   ]
  },
  {
   "cell_type": "markdown",
   "id": "ed625e18-327f-4c29-8611-9a258eccfd95",
   "metadata": {},
   "source": [
    "> Данные загружаются заново, включаются только отобранные ранее признаки.  \n",
    "> До определенной даты данные считаются обучающими, после нее — валидационными.  \n",
    "> `channel_name = 3` — условие заказчика."
   ]
  },
  {
   "cell_type": "markdown",
   "id": "da0975cd",
   "metadata": {},
   "source": [
    "### Выделение признаков и целевой переменной"
   ]
  },
  {
   "cell_type": "code",
   "execution_count": 88,
   "id": "ea296a08",
   "metadata": {},
   "outputs": [],
   "source": [
    "# X = data_train.drop(['id', TARGET], axis=1)\n",
    "# # X = data_train.drop(TARGET, axis=1)\n",
    "# Y = data_train[TARGET]\n",
    "\n",
    "# X.shape, Y.shape"
   ]
  },
  {
   "cell_type": "code",
   "execution_count": 89,
   "id": "1d0b71df",
   "metadata": {},
   "outputs": [],
   "source": [
    "# X.info()"
   ]
  },
  {
   "cell_type": "code",
   "execution_count": 90,
   "id": "748e6c21",
   "metadata": {},
   "outputs": [],
   "source": [
    "# Y.info()"
   ]
  },
  {
   "cell_type": "markdown",
   "id": "fb9d2cae",
   "metadata": {},
   "source": [
    "### Разделение на обучающую и валидационную выборки"
   ]
  },
  {
   "cell_type": "code",
   "execution_count": 91,
   "id": "ab2e6321",
   "metadata": {},
   "outputs": [],
   "source": [
    "# X_train, X_valid, Y_train, Y_valid = train_test_split(X, Y, train_size=TRAIN_FRAC, stratify=Y, random_state=RS)\n",
    "\n",
    "# X_train.shape, Y_train.shape, X_valid.shape, Y_valid.shape"
   ]
  },
  {
   "cell_type": "code",
   "execution_count": 92,
   "id": "ff98d822",
   "metadata": {},
   "outputs": [],
   "source": [
    "# splitter = GroupShuffleSplit(n_splits=1, train_size=TRAIN_FRAC, random_state=RS)\n",
    "# id_groups = data_train.id\n",
    "\n",
    "# train_idx, valid_idx = next(splitter.split(X, Y, groups=id_groups))\n",
    "\n",
    "# X_train = X.loc[train_idx, :]\n",
    "# X_valid = X.loc[valid_idx, :]\n",
    "\n",
    "# Y_train = Y[train_idx]\n",
    "# Y_valid = Y[valid_idx]\n",
    "\n",
    "# X_train.shape, X_valid.shape, Y_train.shape, Y_valid.shape"
   ]
  },
  {
   "cell_type": "code",
   "execution_count": 93,
   "id": "adfd9f60",
   "metadata": {},
   "outputs": [],
   "source": [
    "X_train = data_train.drop(['id', TARGET], axis=1)\n",
    "Y_train = data_train[TARGET]\n",
    "\n",
    "X_valid = data_valid.drop(['id', TARGET], axis=1)\n",
    "Y_valid = data_valid[TARGET]"
   ]
  },
  {
   "cell_type": "markdown",
   "id": "43934f6f-625b-400f-a874-f14aae405208",
   "metadata": {},
   "source": [
    "> Остановился на простой форме разделения на train и valid — просто по дате."
   ]
  },
  {
   "cell_type": "code",
   "execution_count": 94,
   "id": "1f12c576",
   "metadata": {},
   "outputs": [
    {
     "data": {
      "text/plain": [
       "(0   0.984\n",
       " 1   0.016\n",
       " Name: target, dtype: float64,\n",
       " 0   0.980\n",
       " 1   0.020\n",
       " Name: target, dtype: float64)"
      ]
     },
     "execution_count": 94,
     "metadata": {},
     "output_type": "execute_result"
    }
   ],
   "source": [
    "Y_train.value_counts(normalize=True), Y_valid.value_counts(normalize=True)"
   ]
  },
  {
   "cell_type": "markdown",
   "id": "99746b9f-eb83-4519-a56b-835cbf78dc64",
   "metadata": {},
   "source": [
    "> Распределение изменилось.  \n",
    "> Это может быть проблемой, но пока — как есть.\n",
    ">\n",
    "> Возможно, для улучшения качества модели стоит применить методы работы с временными рядами."
   ]
  },
  {
   "cell_type": "markdown",
   "id": "bb36d08f",
   "metadata": {},
   "source": [
    "## Модель CatBoost"
   ]
  },
  {
   "cell_type": "code",
   "execution_count": 95,
   "id": "578adbef",
   "metadata": {},
   "outputs": [
    {
     "data": {
      "application/vnd.jupyter.widget-view+json": {
       "model_id": "48e0137644484eeab63a383a01bf1014",
       "version_major": 2,
       "version_minor": 0
      },
      "text/plain": [
       "MetricVisualizer(layout=Layout(align_self='stretch', height='500px'))"
      ]
     },
     "metadata": {},
     "output_type": "display_data"
    },
    {
     "name": "stdout",
     "output_type": "stream",
     "text": [
      "0:\ttest: 0.5276478\tbest: 0.5276478 (0)\ttotal: 37ms\tremaining: 6m 10s\n",
      "200:\ttest: 0.6443242\tbest: 0.6474351 (110)\ttotal: 6.17s\tremaining: 5m\n",
      "Stopped by overfitting detector  (100 iterations wait)\n",
      "\n",
      "bestTest = 0.6474350717\n",
      "bestIteration = 110\n",
      "\n",
      "Shrink model to first 111 iterations.\n"
     ]
    },
    {
     "data": {
      "text/plain": [
       "<catboost.core.CatBoostClassifier at 0x2d0a17c0>"
      ]
     },
     "execution_count": 95,
     "metadata": {},
     "output_type": "execute_result"
    }
   ],
   "source": [
    "model = CatBoostClassifier(\n",
    "                           iterations=10_000,\n",
    "#                            cat_features=cat_features,\n",
    "                           eval_metric='AUC',\n",
    "                           learning_rate=0.02,\n",
    "                           early_stopping_rounds=100,\n",
    "                           random_seed=RS,\n",
    "                          )\n",
    "\n",
    "model.fit(\n",
    "          X_train, Y_train,\n",
    "          eval_set=(X_valid, Y_valid),\n",
    "          verbose=200,\n",
    "          plot=True,\n",
    "         )"
   ]
  },
  {
   "cell_type": "markdown",
   "id": "ac375e1c-15b3-4736-bf82-463020f9304e",
   "metadata": {},
   "source": [
    "> Метрика всего лишь на 1 п.п. уступает топовому решению, использующему несколько сотен признаков."
   ]
  },
  {
   "cell_type": "code",
   "execution_count": 96,
   "id": "bfc5e655-89ba-4f78-a363-ac44c3b707f8",
   "metadata": {
    "scrolled": true
   },
   "outputs": [],
   "source": [
    "# params = {\n",
    "#           'loss_function': 'Logloss',\n",
    "#           'custom_loss': 'AUC',\n",
    "#           'iterations': 1000,\n",
    "#           'random_seed': RS,\n",
    "#           # 'learning_rate': 0.01\n",
    "#          }\n",
    "\n",
    "# cv_data = cv(\n",
    "#              params=params,\n",
    "#              pool=Pool(X_train, Y_train, cat_features=cat_features),\n",
    "#              early_stopping_rounds=50,\n",
    "#              fold_count=3,\n",
    "#              shuffle=True,\n",
    "#              plot=True,\n",
    "#              stratified=True, \n",
    "#              verbose=200,\n",
    "#             )"
   ]
  },
  {
   "cell_type": "code",
   "execution_count": 97,
   "id": "e1a80595-abac-4d56-925f-161ee15cee91",
   "metadata": {
    "scrolled": true
   },
   "outputs": [],
   "source": [
    "# cv_data.filter(regex='^test').mean().to_frame().T"
   ]
  },
  {
   "cell_type": "code",
   "execution_count": 98,
   "id": "f9e5694a-1add-4b7f-9125-693ee9238063",
   "metadata": {
    "scrolled": true
   },
   "outputs": [],
   "source": [
    "# cv_data.sort_values('test-AUC-mean', ascending=False)"
   ]
  },
  {
   "cell_type": "markdown",
   "id": "5b60eead-4d4a-4df7-ae50-9a6b2da039ba",
   "metadata": {},
   "source": [
    "> Вариант исследования, чтобы подробнее рассмотреть процесс обучения."
   ]
  },
  {
   "cell_type": "markdown",
   "id": "bdfd5739",
   "metadata": {},
   "source": [
    "## Submit"
   ]
  },
  {
   "cell_type": "markdown",
   "id": "a3183630-8ced-4a17-9d73-a9fa62b6d2b3",
   "metadata": {},
   "source": [
    "Этот раздел предназначен исключительно для создания сабмита в соревновании на Kaggle."
   ]
  },
  {
   "cell_type": "markdown",
   "id": "f911f895",
   "metadata": {},
   "source": [
    "### Загрузка тестовых данных"
   ]
  },
  {
   "cell_type": "code",
   "execution_count": 99,
   "id": "ffcf66e2-f419-4ac6-aff4-9c3440f5b035",
   "metadata": {},
   "outputs": [
    {
     "data": {
      "text/html": [
       "<div>\n",
       "<style scoped>\n",
       "    .dataframe tbody tr th:only-of-type {\n",
       "        vertical-align: middle;\n",
       "    }\n",
       "\n",
       "    .dataframe tbody tr th {\n",
       "        vertical-align: top;\n",
       "    }\n",
       "\n",
       "    .dataframe thead th {\n",
       "        text-align: right;\n",
       "    }\n",
       "</style>\n",
       "<table border=\"1\" class=\"dataframe\">\n",
       "  <thead>\n",
       "    <tr style=\"text-align: left;\">\n",
       "      <th></th>\n",
       "      <th>markers_30_1_cnt</th>\n",
       "      <th>markers_32_1_cnt</th>\n",
       "    </tr>\n",
       "  </thead>\n",
       "  <tbody>\n",
       "    <tr>\n",
       "      <th>0</th>\n",
       "      <td>-0.088</td>\n",
       "      <td>10.778</td>\n",
       "    </tr>\n",
       "    <tr>\n",
       "      <th>1</th>\n",
       "      <td>-0.088</td>\n",
       "      <td>-0.238</td>\n",
       "    </tr>\n",
       "    <tr>\n",
       "      <th>2</th>\n",
       "      <td>-0.088</td>\n",
       "      <td>-0.238</td>\n",
       "    </tr>\n",
       "  </tbody>\n",
       "</table>\n",
       "</div>"
      ],
      "text/plain": [
       "   markers_30_1_cnt  markers_32_1_cnt\n",
       "0 -0.088            10.778           \n",
       "1 -0.088            -0.238           \n",
       "2 -0.088            -0.238           "
      ]
     },
     "execution_count": 99,
     "metadata": {},
     "output_type": "execute_result"
    }
   ],
   "source": [
    "train_file_path = f'{PATH_LOCAL}dataset_oot.parquet'\n",
    "n_rows = 3\n",
    "\n",
    "query_text = f'''\n",
    "    SELECT \"markers_30_1_cnt\", \"markers_32_1_cnt\"\n",
    "    FROM \"{train_file_path}\"\n",
    "    LIMIT {n_rows};\n",
    "'''\n",
    "\n",
    "duckdb.query(query_text).df()"
   ]
  },
  {
   "cell_type": "code",
   "execution_count": 106,
   "id": "270df6a2",
   "metadata": {},
   "outputs": [],
   "source": [
    "data_oot = pd.read_parquet(\n",
    "                           f'{PATH_LOCAL}features_oot.parquet',\n",
    "                           columns=['id','period'] + selected_features,\n",
    "                          )"
   ]
  },
  {
   "cell_type": "code",
   "execution_count": 108,
   "id": "7fc8a2e2",
   "metadata": {},
   "outputs": [
    {
     "data": {
      "text/html": [
       "<div>\n",
       "<style scoped>\n",
       "    .dataframe tbody tr th:only-of-type {\n",
       "        vertical-align: middle;\n",
       "    }\n",
       "\n",
       "    .dataframe tbody tr th {\n",
       "        vertical-align: top;\n",
       "    }\n",
       "\n",
       "    .dataframe thead th {\n",
       "        text-align: right;\n",
       "    }\n",
       "</style>\n",
       "<table border=\"1\" class=\"dataframe\">\n",
       "  <thead>\n",
       "    <tr style=\"text-align: left;\">\n",
       "      <th></th>\n",
       "      <th>id</th>\n",
       "      <th>period</th>\n",
       "      <th>markers_32_1_cnt</th>\n",
       "      <th>markers_40_1_cnt</th>\n",
       "      <th>markers_68_1_cnt</th>\n",
       "      <th>markers_72_1_cnt</th>\n",
       "      <th>markers_102_1_cnt</th>\n",
       "      <th>markers_146_1_cnt</th>\n",
       "      <th>markers_149_1_cnt</th>\n",
       "      <th>markers_171_1_cnt</th>\n",
       "      <th>markers_299_1_cnt</th>\n",
       "      <th>markers_310_1_cnt</th>\n",
       "      <th>markers_334_1_cnt</th>\n",
       "      <th>markers_346_1_cnt</th>\n",
       "      <th>markers_364_1_cnt</th>\n",
       "      <th>markers_508_1_cnt</th>\n",
       "      <th>markers_576_1_cnt</th>\n",
       "      <th>markers_701_1_cnt</th>\n",
       "      <th>markers_761_1_cnt</th>\n",
       "      <th>spas_symptoms_agr_10_12_sum</th>\n",
       "      <th>charges_details_16_3_avg</th>\n",
       "      <th>tariff_plans_4_1_num</th>\n",
       "      <th>payments_details_46_1_sum</th>\n",
       "      <th>payments_details_47_3_avg</th>\n",
       "      <th>plan_costs_4_3_avg</th>\n",
       "      <th>plan_costs_6_1_sum</th>\n",
       "      <th>spas_symptoms_int_10_1_cnt</th>\n",
       "      <th>spas_symptoms_int_14_1_cnt</th>\n",
       "      <th>spas_symptoms_int_72_1_cnt</th>\n",
       "      <th>spas_symptoms_agr_106_12_sum</th>\n",
       "      <th>spas_symptoms_agr_250_12_sum</th>\n",
       "      <th>campaigns_347_3d6_part</th>\n",
       "      <th>campaigns_363_1d3_part</th>\n",
       "      <th>campaigns_366_3_part</th>\n",
       "      <th>campaigns_367_3d6_part</th>\n",
       "      <th>campaigns_368_6_cnt</th>\n",
       "      <th>campaigns_375_6_part</th>\n",
       "      <th>campaigns_378_6_cnt</th>\n",
       "      <th>campaigns_384_3_part</th>\n",
       "      <th>campaigns_391_1d6_part</th>\n",
       "      <th>campaigns_394_3d6_part</th>\n",
       "      <th>campaigns_395_6_part</th>\n",
       "      <th>campaigns_401_3_part</th>\n",
       "      <th>overdue_payments_0_1_cnt</th>\n",
       "      <th>user_devices_30_1_cnt</th>\n",
       "      <th>markers_896_1_cnt</th>\n",
       "      <th>tariff_plans_16_1_ctg</th>\n",
       "      <th>tariff_plans_18_1_ctg</th>\n",
       "      <th>materials_details_15_1_ctg</th>\n",
       "      <th>cities_2_0_ctg</th>\n",
       "      <th>communication_availability_30_1_flg</th>\n",
       "      <th>tariff_plans_17_src_id</th>\n",
       "    </tr>\n",
       "  </thead>\n",
       "  <tbody>\n",
       "    <tr>\n",
       "      <th>0</th>\n",
       "      <td>1548227</td>\n",
       "      <td>202303</td>\n",
       "      <td>2.728</td>\n",
       "      <td>0.134</td>\n",
       "      <td>-0.339</td>\n",
       "      <td>0.473</td>\n",
       "      <td>0.005</td>\n",
       "      <td>-0.126</td>\n",
       "      <td>4.551</td>\n",
       "      <td>2.768</td>\n",
       "      <td>1.932</td>\n",
       "      <td>-0.128</td>\n",
       "      <td>-0.241</td>\n",
       "      <td>0.998</td>\n",
       "      <td>-0.426</td>\n",
       "      <td>2.236</td>\n",
       "      <td>1.905</td>\n",
       "      <td>-0.466</td>\n",
       "      <td>2.466</td>\n",
       "      <td>-0.345</td>\n",
       "      <td>-0.919</td>\n",
       "      <td>-1.045</td>\n",
       "      <td>-0.376</td>\n",
       "      <td>-0.131</td>\n",
       "      <td>-0.847</td>\n",
       "      <td>-0.263</td>\n",
       "      <td>0.489</td>\n",
       "      <td>0.482</td>\n",
       "      <td>-0.093</td>\n",
       "      <td>-0.310</td>\n",
       "      <td>-0.157</td>\n",
       "      <td>-0.616</td>\n",
       "      <td>-0.555</td>\n",
       "      <td>-0.650</td>\n",
       "      <td>0.905</td>\n",
       "      <td>-0.488</td>\n",
       "      <td>-0.457</td>\n",
       "      <td>1.474</td>\n",
       "      <td>-0.444</td>\n",
       "      <td>-0.119</td>\n",
       "      <td>-0.158</td>\n",
       "      <td>-0.111</td>\n",
       "      <td>-1.262</td>\n",
       "      <td>-0.239</td>\n",
       "      <td>-0.431</td>\n",
       "      <td>-0.359</td>\n",
       "      <td>423</td>\n",
       "      <td>2601</td>\n",
       "      <td>0</td>\n",
       "      <td>52</td>\n",
       "      <td>1</td>\n",
       "      <td>-1</td>\n",
       "    </tr>\n",
       "    <tr>\n",
       "      <th>1</th>\n",
       "      <td>1173554</td>\n",
       "      <td>202302</td>\n",
       "      <td>-0.238</td>\n",
       "      <td>-0.401</td>\n",
       "      <td>-0.339</td>\n",
       "      <td>-0.182</td>\n",
       "      <td>-0.355</td>\n",
       "      <td>-0.126</td>\n",
       "      <td>-0.624</td>\n",
       "      <td>-0.406</td>\n",
       "      <td>-0.247</td>\n",
       "      <td>-0.726</td>\n",
       "      <td>-0.521</td>\n",
       "      <td>-0.465</td>\n",
       "      <td>-0.426</td>\n",
       "      <td>-0.532</td>\n",
       "      <td>-0.597</td>\n",
       "      <td>0.118</td>\n",
       "      <td>-0.198</td>\n",
       "      <td>-0.366</td>\n",
       "      <td>-1.512</td>\n",
       "      <td>-1.638</td>\n",
       "      <td>-1.282</td>\n",
       "      <td>-0.164</td>\n",
       "      <td>-0.044</td>\n",
       "      <td>-0.263</td>\n",
       "      <td>0.286</td>\n",
       "      <td>0.269</td>\n",
       "      <td>-0.093</td>\n",
       "      <td>-0.310</td>\n",
       "      <td>-0.157</td>\n",
       "      <td>-0.616</td>\n",
       "      <td>1.705</td>\n",
       "      <td>-0.538</td>\n",
       "      <td>0.698</td>\n",
       "      <td>-0.361</td>\n",
       "      <td>-0.457</td>\n",
       "      <td>1.939</td>\n",
       "      <td>-0.332</td>\n",
       "      <td>-0.441</td>\n",
       "      <td>-0.176</td>\n",
       "      <td>0.358</td>\n",
       "      <td>-0.858</td>\n",
       "      <td>-0.239</td>\n",
       "      <td>-0.431</td>\n",
       "      <td>-0.359</td>\n",
       "      <td>423</td>\n",
       "      <td>4733</td>\n",
       "      <td>0</td>\n",
       "      <td>52</td>\n",
       "      <td>1</td>\n",
       "      <td>-1</td>\n",
       "    </tr>\n",
       "    <tr>\n",
       "      <th>2</th>\n",
       "      <td>1370450</td>\n",
       "      <td>202303</td>\n",
       "      <td>-0.238</td>\n",
       "      <td>-0.401</td>\n",
       "      <td>-0.339</td>\n",
       "      <td>0.473</td>\n",
       "      <td>-0.355</td>\n",
       "      <td>1.766</td>\n",
       "      <td>-0.174</td>\n",
       "      <td>-0.406</td>\n",
       "      <td>-0.247</td>\n",
       "      <td>-0.726</td>\n",
       "      <td>-0.521</td>\n",
       "      <td>-1.365</td>\n",
       "      <td>-0.426</td>\n",
       "      <td>-0.532</td>\n",
       "      <td>-0.471</td>\n",
       "      <td>-0.466</td>\n",
       "      <td>-0.198</td>\n",
       "      <td>2.944</td>\n",
       "      <td>-2.372</td>\n",
       "      <td>-2.499</td>\n",
       "      <td>-0.457</td>\n",
       "      <td>-0.547</td>\n",
       "      <td>-1.508</td>\n",
       "      <td>0.090</td>\n",
       "      <td>0.692</td>\n",
       "      <td>0.695</td>\n",
       "      <td>-0.093</td>\n",
       "      <td>-0.310</td>\n",
       "      <td>0.863</td>\n",
       "      <td>-0.616</td>\n",
       "      <td>-0.555</td>\n",
       "      <td>-0.821</td>\n",
       "      <td>-1.774</td>\n",
       "      <td>-0.488</td>\n",
       "      <td>-0.457</td>\n",
       "      <td>0.750</td>\n",
       "      <td>-0.444</td>\n",
       "      <td>-1.208</td>\n",
       "      <td>1.004</td>\n",
       "      <td>-1.309</td>\n",
       "      <td>-0.704</td>\n",
       "      <td>-0.239</td>\n",
       "      <td>-0.431</td>\n",
       "      <td>-0.359</td>\n",
       "      <td>1143</td>\n",
       "      <td>2647</td>\n",
       "      <td>4350</td>\n",
       "      <td>52</td>\n",
       "      <td>1</td>\n",
       "      <td>51716</td>\n",
       "    </tr>\n",
       "  </tbody>\n",
       "</table>\n",
       "</div>"
      ],
      "text/plain": [
       "  id        period  markers_32_1_cnt  markers_40_1_cnt  markers_68_1_cnt  \\\n",
       "0  1548227  202303  2.728             0.134            -0.339              \n",
       "1  1173554  202302 -0.238            -0.401            -0.339              \n",
       "2  1370450  202303 -0.238            -0.401            -0.339              \n",
       "\n",
       "   markers_72_1_cnt  markers_102_1_cnt  markers_146_1_cnt  markers_149_1_cnt  \\\n",
       "0  0.473             0.005             -0.126              4.551               \n",
       "1 -0.182            -0.355             -0.126             -0.624               \n",
       "2  0.473            -0.355              1.766             -0.174               \n",
       "\n",
       "   markers_171_1_cnt  markers_299_1_cnt  markers_310_1_cnt  markers_334_1_cnt  \\\n",
       "0  2.768              1.932             -0.128             -0.241               \n",
       "1 -0.406             -0.247             -0.726             -0.521               \n",
       "2 -0.406             -0.247             -0.726             -0.521               \n",
       "\n",
       "   markers_346_1_cnt  markers_364_1_cnt  markers_508_1_cnt  markers_576_1_cnt  \\\n",
       "0  0.998             -0.426              2.236              1.905               \n",
       "1 -0.465             -0.426             -0.532             -0.597               \n",
       "2 -1.365             -0.426             -0.532             -0.471               \n",
       "\n",
       "   markers_701_1_cnt  markers_761_1_cnt  spas_symptoms_agr_10_12_sum  \\\n",
       "0 -0.466              2.466             -0.345                         \n",
       "1  0.118             -0.198             -0.366                         \n",
       "2 -0.466             -0.198              2.944                         \n",
       "\n",
       "   charges_details_16_3_avg  tariff_plans_4_1_num  payments_details_46_1_sum  \\\n",
       "0 -0.919                    -1.045                -0.376                       \n",
       "1 -1.512                    -1.638                -1.282                       \n",
       "2 -2.372                    -2.499                -0.457                       \n",
       "\n",
       "   payments_details_47_3_avg  plan_costs_4_3_avg  plan_costs_6_1_sum  \\\n",
       "0 -0.131                     -0.847              -0.263                \n",
       "1 -0.164                     -0.044              -0.263                \n",
       "2 -0.547                     -1.508               0.090                \n",
       "\n",
       "   spas_symptoms_int_10_1_cnt  spas_symptoms_int_14_1_cnt  \\\n",
       "0 0.489                       0.482                         \n",
       "1 0.286                       0.269                         \n",
       "2 0.692                       0.695                         \n",
       "\n",
       "   spas_symptoms_int_72_1_cnt  spas_symptoms_agr_106_12_sum  \\\n",
       "0 -0.093                      -0.310                          \n",
       "1 -0.093                      -0.310                          \n",
       "2 -0.093                      -0.310                          \n",
       "\n",
       "   spas_symptoms_agr_250_12_sum  campaigns_347_3d6_part  \\\n",
       "0 -0.157                        -0.616                    \n",
       "1 -0.157                        -0.616                    \n",
       "2  0.863                        -0.616                    \n",
       "\n",
       "   campaigns_363_1d3_part  campaigns_366_3_part  campaigns_367_3d6_part  \\\n",
       "0 -0.555                  -0.650                 0.905                    \n",
       "1  1.705                  -0.538                 0.698                    \n",
       "2 -0.555                  -0.821                -1.774                    \n",
       "\n",
       "   campaigns_368_6_cnt  campaigns_375_6_part  campaigns_378_6_cnt  \\\n",
       "0 -0.488               -0.457                1.474                  \n",
       "1 -0.361               -0.457                1.939                  \n",
       "2 -0.488               -0.457                0.750                  \n",
       "\n",
       "   campaigns_384_3_part  campaigns_391_1d6_part  campaigns_394_3d6_part  \\\n",
       "0 -0.444                -0.119                  -0.158                    \n",
       "1 -0.332                -0.441                  -0.176                    \n",
       "2 -0.444                -1.208                   1.004                    \n",
       "\n",
       "   campaigns_395_6_part  campaigns_401_3_part  overdue_payments_0_1_cnt  \\\n",
       "0 -0.111                -1.262                -0.239                      \n",
       "1  0.358                -0.858                -0.239                      \n",
       "2 -1.309                -0.704                -0.239                      \n",
       "\n",
       "   user_devices_30_1_cnt  markers_896_1_cnt  tariff_plans_16_1_ctg  \\\n",
       "0 -0.431                 -0.359               423                    \n",
       "1 -0.431                 -0.359               423                    \n",
       "2 -0.431                 -0.359              1143                    \n",
       "\n",
       "   tariff_plans_18_1_ctg  materials_details_15_1_ctg  cities_2_0_ctg  \\\n",
       "0  2601                      0                        52               \n",
       "1  4733                      0                        52               \n",
       "2  2647                   4350                        52               \n",
       "\n",
       "   communication_availability_30_1_flg  tariff_plans_17_src_id  \n",
       "0  1                                       -1                   \n",
       "1  1                                       -1                   \n",
       "2  1                                    51716                   "
      ]
     },
     "execution_count": 108,
     "metadata": {},
     "output_type": "execute_result"
    }
   ],
   "source": [
    "data_oot.head(3)"
   ]
  },
  {
   "cell_type": "code",
   "execution_count": 109,
   "id": "e09d9d43",
   "metadata": {
    "scrolled": true
   },
   "outputs": [
    {
     "name": "stdout",
     "output_type": "stream",
     "text": [
      "<class 'pandas.core.frame.DataFrame'>\n",
      "RangeIndex: 60661 entries, 0 to 60660\n",
      "Data columns (total 52 columns):\n",
      " #   Column                               Non-Null Count  Dtype  \n",
      "---  ------                               --------------  -----  \n",
      " 0   id                                   60661 non-null  object \n",
      " 1   period                               60661 non-null  int32  \n",
      " 2   markers_32_1_cnt                     59136 non-null  float64\n",
      " 3   markers_40_1_cnt                     59136 non-null  float64\n",
      " 4   markers_68_1_cnt                     59136 non-null  float64\n",
      " 5   markers_72_1_cnt                     59136 non-null  float64\n",
      " 6   markers_102_1_cnt                    59136 non-null  float64\n",
      " 7   markers_146_1_cnt                    59136 non-null  float64\n",
      " 8   markers_149_1_cnt                    59136 non-null  float64\n",
      " 9   markers_171_1_cnt                    59136 non-null  float64\n",
      " 10  markers_299_1_cnt                    59136 non-null  float64\n",
      " 11  markers_310_1_cnt                    59136 non-null  float64\n",
      " 12  markers_334_1_cnt                    59136 non-null  float64\n",
      " 13  markers_346_1_cnt                    59136 non-null  float64\n",
      " 14  markers_364_1_cnt                    59136 non-null  float64\n",
      " 15  markers_508_1_cnt                    59136 non-null  float64\n",
      " 16  markers_576_1_cnt                    59136 non-null  float64\n",
      " 17  markers_701_1_cnt                    59136 non-null  float64\n",
      " 18  markers_761_1_cnt                    59136 non-null  float64\n",
      " 19  spas_symptoms_agr_10_12_sum          60155 non-null  float64\n",
      " 20  charges_details_16_3_avg             60561 non-null  float64\n",
      " 21  tariff_plans_4_1_num                 60337 non-null  float64\n",
      " 22  payments_details_46_1_sum            60543 non-null  float64\n",
      " 23  payments_details_47_3_avg            60543 non-null  float64\n",
      " 24  plan_costs_4_3_avg                   60290 non-null  float64\n",
      " 25  plan_costs_6_1_sum                   60290 non-null  float64\n",
      " 26  spas_symptoms_int_10_1_cnt           60156 non-null  float64\n",
      " 27  spas_symptoms_int_14_1_cnt           60156 non-null  float64\n",
      " 28  spas_symptoms_int_72_1_cnt           60156 non-null  float64\n",
      " 29  spas_symptoms_agr_106_12_sum         60155 non-null  float64\n",
      " 30  spas_symptoms_agr_250_12_sum         60155 non-null  float64\n",
      " 31  campaigns_347_3d6_part               60430 non-null  float64\n",
      " 32  campaigns_363_1d3_part               60430 non-null  float64\n",
      " 33  campaigns_366_3_part                 60430 non-null  float64\n",
      " 34  campaigns_367_3d6_part               60430 non-null  float64\n",
      " 35  campaigns_368_6_cnt                  60430 non-null  float64\n",
      " 36  campaigns_375_6_part                 60430 non-null  float64\n",
      " 37  campaigns_378_6_cnt                  60430 non-null  float64\n",
      " 38  campaigns_384_3_part                 60430 non-null  float64\n",
      " 39  campaigns_391_1d6_part               60430 non-null  float64\n",
      " 40  campaigns_394_3d6_part               60430 non-null  float64\n",
      " 41  campaigns_395_6_part                 60430 non-null  float64\n",
      " 42  campaigns_401_3_part                 60430 non-null  float64\n",
      " 43  overdue_payments_0_1_cnt             60379 non-null  float64\n",
      " 44  user_devices_30_1_cnt                60661 non-null  float64\n",
      " 45  markers_896_1_cnt                    59136 non-null  float64\n",
      " 46  tariff_plans_16_1_ctg                60661 non-null  int64  \n",
      " 47  tariff_plans_18_1_ctg                60661 non-null  int64  \n",
      " 48  materials_details_15_1_ctg           60661 non-null  int64  \n",
      " 49  cities_2_0_ctg                       60661 non-null  int64  \n",
      " 50  communication_availability_30_1_flg  60661 non-null  int32  \n",
      " 51  tariff_plans_17_src_id               60661 non-null  int32  \n",
      "dtypes: float64(44), int32(3), int64(4), object(1)\n",
      "memory usage: 23.4+ MB\n"
     ]
    }
   ],
   "source": [
    "data_oot.info()"
   ]
  },
  {
   "cell_type": "code",
   "execution_count": 110,
   "id": "14003bf7",
   "metadata": {},
   "outputs": [],
   "source": [
    "data_oot['predict_proba'] = model.predict_proba(data_oot.drop(['id','period'], axis=1))[:, 1]"
   ]
  },
  {
   "cell_type": "code",
   "execution_count": 111,
   "id": "c31296f9",
   "metadata": {},
   "outputs": [
    {
     "data": {
      "text/html": [
       "<div>\n",
       "<style scoped>\n",
       "    .dataframe tbody tr th:only-of-type {\n",
       "        vertical-align: middle;\n",
       "    }\n",
       "\n",
       "    .dataframe tbody tr th {\n",
       "        vertical-align: top;\n",
       "    }\n",
       "\n",
       "    .dataframe thead th {\n",
       "        text-align: right;\n",
       "    }\n",
       "</style>\n",
       "<table border=\"1\" class=\"dataframe\">\n",
       "  <thead>\n",
       "    <tr style=\"text-align: left;\">\n",
       "      <th></th>\n",
       "      <th>id</th>\n",
       "      <th>period</th>\n",
       "      <th>predict_proba</th>\n",
       "    </tr>\n",
       "  </thead>\n",
       "  <tbody>\n",
       "    <tr>\n",
       "      <th>6350</th>\n",
       "      <td>1679520</td>\n",
       "      <td>202303</td>\n",
       "      <td>0.035</td>\n",
       "    </tr>\n",
       "    <tr>\n",
       "      <th>39261</th>\n",
       "      <td>1615106</td>\n",
       "      <td>202303</td>\n",
       "      <td>0.027</td>\n",
       "    </tr>\n",
       "    <tr>\n",
       "      <th>57014</th>\n",
       "      <td>1255077</td>\n",
       "      <td>202303</td>\n",
       "      <td>0.021</td>\n",
       "    </tr>\n",
       "  </tbody>\n",
       "</table>\n",
       "</div>"
      ],
      "text/plain": [
       "      id        period  predict_proba\n",
       "6350   1679520  202303 0.035         \n",
       "39261  1615106  202303 0.027         \n",
       "57014  1255077  202303 0.021         "
      ]
     },
     "execution_count": 111,
     "metadata": {},
     "output_type": "execute_result"
    }
   ],
   "source": [
    "data_oot[['id','period','predict_proba']].sample(3).sort_values('predict_proba', ascending=False)"
   ]
  },
  {
   "cell_type": "markdown",
   "id": "0a50cba9",
   "metadata": {},
   "source": [
    "### Sample Submition\n",
    "\n",
    "Список ID, для которых нужен predict."
   ]
  },
  {
   "cell_type": "code",
   "execution_count": 112,
   "id": "e8bc8316",
   "metadata": {},
   "outputs": [
    {
     "data": {
      "text/html": [
       "<div>\n",
       "<style scoped>\n",
       "    .dataframe tbody tr th:only-of-type {\n",
       "        vertical-align: middle;\n",
       "    }\n",
       "\n",
       "    .dataframe tbody tr th {\n",
       "        vertical-align: top;\n",
       "    }\n",
       "\n",
       "    .dataframe thead th {\n",
       "        text-align: right;\n",
       "    }\n",
       "</style>\n",
       "<table border=\"1\" class=\"dataframe\">\n",
       "  <thead>\n",
       "    <tr style=\"text-align: left;\">\n",
       "      <th></th>\n",
       "      <th>id</th>\n",
       "      <th>target</th>\n",
       "    </tr>\n",
       "  </thead>\n",
       "  <tbody>\n",
       "    <tr>\n",
       "      <th>0</th>\n",
       "      <td>0</td>\n",
       "      <td>0.344</td>\n",
       "    </tr>\n",
       "    <tr>\n",
       "      <th>1</th>\n",
       "      <td>1</td>\n",
       "      <td>0.591</td>\n",
       "    </tr>\n",
       "    <tr>\n",
       "      <th>2</th>\n",
       "      <td>2</td>\n",
       "      <td>0.913</td>\n",
       "    </tr>\n",
       "  </tbody>\n",
       "</table>\n",
       "</div>"
      ],
      "text/plain": [
       "   id  target\n",
       "0  0  0.344  \n",
       "1  1  0.591  \n",
       "2  2  0.913  "
      ]
     },
     "execution_count": 112,
     "metadata": {},
     "output_type": "execute_result"
    }
   ],
   "source": [
    "data_submition = pd.read_csv(f'{PATH_LOCAL}sample_submission.csv')\n",
    "\n",
    "data_submition.head(3)"
   ]
  },
  {
   "cell_type": "code",
   "execution_count": 113,
   "id": "a3489dc7",
   "metadata": {},
   "outputs": [],
   "source": [
    "data_submition.target = data_oot.predict_proba"
   ]
  },
  {
   "cell_type": "markdown",
   "id": "b95671cf",
   "metadata": {},
   "source": [
    "### Save to CSV"
   ]
  },
  {
   "cell_type": "code",
   "execution_count": 114,
   "id": "b1bcf8df",
   "metadata": {},
   "outputs": [],
   "source": [
    "data_submition.to_csv(f'{PATH_LOCAL}submit.csv', index=False)"
   ]
  }
 ],
 "metadata": {
  "kernelspec": {
   "display_name": "Python 3 (ipykernel)",
   "language": "python",
   "name": "python3"
  },
  "language_info": {
   "codemirror_mode": {
    "name": "ipython",
    "version": 3
   },
   "file_extension": ".py",
   "mimetype": "text/x-python",
   "name": "python",
   "nbconvert_exporter": "python",
   "pygments_lexer": "ipython3",
   "version": "3.8.10"
  },
  "nbTranslate": {
   "displayLangs": [
    "en",
    "ru"
   ],
   "hotkey": "alt-t",
   "langInMainMenu": false,
   "sourceLang": "ru",
   "targetLang": "en",
   "useGoogleTranslate": true
  },
  "toc": {
   "base_numbering": "0",
   "nav_menu": {},
   "number_sections": true,
   "sideBar": true,
   "skip_h1_title": true,
   "title_cell": "Содержание",
   "title_sidebar": "Contents",
   "toc_cell": false,
   "toc_position": {
    "height": "calc(100% - 180px)",
    "left": "10px",
    "top": "150px",
    "width": "316.767px"
   },
   "toc_section_display": true,
   "toc_window_display": true
  }
 },
 "nbformat": 4,
 "nbformat_minor": 5
}
